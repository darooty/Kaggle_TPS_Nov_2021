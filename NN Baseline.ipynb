{
 "cells": [
  {
   "cell_type": "code",
   "execution_count": 10,
   "id": "bebe8eee",
   "metadata": {},
   "outputs": [],
   "source": [
    "import numpy as np\n",
    "import pandas as pd"
   ]
  },
  {
   "cell_type": "code",
   "execution_count": 11,
   "id": "a6af9f87",
   "metadata": {},
   "outputs": [],
   "source": [
    "train = pd.read_csv('train.csv')\n",
    "test = pd.read_csv('test.csv')"
   ]
  },
  {
   "cell_type": "code",
   "execution_count": 12,
   "id": "f4f1c8ed",
   "metadata": {},
   "outputs": [],
   "source": [
    "test_id = test.id\n",
    "train.drop(['id'], axis=1, inplace=True)\n",
    "test.drop(['id'] ,axis=1, inplace=True)\n",
    "\n",
    "X_train = train.drop(['target'], axis=1)\n",
    "y_train = train.target\n",
    "X_test = test"
   ]
  },
  {
   "cell_type": "markdown",
   "id": "b0612131",
   "metadata": {},
   "source": [
    "feature engineering"
   ]
  },
  {
   "cell_type": "code",
   "execution_count": 13,
   "id": "728cc6f7",
   "metadata": {},
   "outputs": [],
   "source": [
    "from sklearn.preprocessing import StandardScaler, MinMaxScaler\n",
    "from sklearn.pipeline import make_pipeline\n",
    "from sklearn.compose import make_column_transformer"
   ]
  },
  {
   "cell_type": "code",
   "execution_count": 14,
   "id": "872502f3",
   "metadata": {},
   "outputs": [],
   "source": [
    "h_skew = X_train.loc[:, train.skew() >= 2].columns # with skewed\n",
    "l_skew = X_train.loc[:, train.skew() < 2].columns # Bimodal\n",
    "\n",
    "# high skewd columns:\n",
    "# add mean, median, skew, min, max, var, std\n",
    "X_train['median_h'] = X_train[h_skew].median(axis=1)\n",
    "X_test['median_h'] = X_test[h_skew].median(axis=1)\n",
    "X_train['var_h'] = X_train[h_skew].var(axis=1)\n",
    "X_test['var_h'] = X_test[h_skew].var(axis=1)\n",
    "\n",
    "# bimodal columns:\n",
    "\n",
    "X_train['mean_l'] = X_train[l_skew].mean(axis=1)\n",
    "X_test['mean_l'] = X_test[l_skew].mean(axis=1)\n",
    "X_train['std_l'] = X_train[l_skew].std(axis=1)\n",
    "X_test['std_l'] = X_test[l_skew].std(axis=1)\n",
    "X_train['median_l'] = X_train[l_skew].median(axis=1)\n",
    "X_test['median_l'] = X_test[l_skew].median(axis=1)\n",
    "X_train['skew_l'] = X_train[l_skew].skew(axis=1)\n",
    "X_test['skew_l'] = X_test[l_skew].skew(axis=1)\n",
    "X_train['max_l'] = X_train[l_skew].max(axis=1)\n",
    "X_test['max_l'] = X_test[l_skew].max(axis=1)\n",
    "X_train['var_l'] = X_train[l_skew].var(axis=1)\n",
    "X_test['var_l'] = X_test[l_skew].var(axis=1)"
   ]
  },
  {
   "cell_type": "markdown",
   "id": "715f1a3e",
   "metadata": {},
   "source": [
    "model"
   ]
  },
  {
   "cell_type": "code",
   "execution_count": 15,
   "id": "adb9c3c2",
   "metadata": {},
   "outputs": [],
   "source": [
    "from tensorflow import keras\n",
    "from tensorflow.keras import layers\n",
    "from tensorflow.keras import callbacks\n",
    "import tensorflow as tf\n",
    "import random\n",
    "import os\n",
    "from sklearn.metrics import roc_auc_score, log_loss\n",
    "from sklearn.model_selection import KFold, StratifiedKFold\n",
    "from sklearn.preprocessing import StandardScaler, RobustScaler, PowerTransformer\n",
    "\n",
    "# seed\n",
    "seed = 42\n",
    "def seedAll(seed):\n",
    "    np.random.seed(seed) # set numpy seed\n",
    "    tf.random.set_seed(seed) # set tensorflow seed\n",
    "    random.seed(seed) # set random seed\n",
    "    os.environ['PYTHONHASHSEED'] = str(seed)\n",
    "seedAll(seed)"
   ]
  },
  {
   "cell_type": "code",
   "execution_count": 8,
   "id": "56b0bf26",
   "metadata": {},
   "outputs": [],
   "source": [
    "# create model\n",
    "def createModel():\n",
    "    # create early stopping.\n",
    "    # monitor: early stopping의 기준\n",
    "    # min_delta: 개선된 것으로 간주하기 위한 최소한의 변화량\n",
    "    # patience: 임계 횟수.\n",
    "    # baseline: 최소 기준 점수\n",
    "    # restore_best_weights: if it's True, restore best weights\n",
    "    early_stopping = callbacks.EarlyStopping(\n",
    "        monitor='val_loss',\n",
    "        mode='min',\n",
    "        patience=20,\n",
    "        min_delta=0,\n",
    "        baseline=None,\n",
    "        restore_best_weights=True,\n",
    "        verbose=0\n",
    "    )\n",
    "    # monitor: reducelronplaceau의 기준\n",
    "    # factor: learning_rate 감소량. 새로운 learning_rate = \n",
    "    # 기존 learning rate * factor\n",
    "    # patience: 임계 횟수. 만약 이 값이 7이고, 7번 내에 개선이 없으면\n",
    "    # learning rate를 갱신.\n",
    "    # mode: monitor의 지향 방향.\n",
    "    plateau = callbacks.ReduceLROnPlateau(\n",
    "        monitor='val_loss',\n",
    "        mode='min',\n",
    "        patience=7,\n",
    "        factor=.2,\n",
    "        verbose=0        \n",
    "    )\n",
    "    \n",
    "    # create model.\n",
    "    # keras의 sequential (각 층이 연속적으로 붙음.)\n",
    "    # Dense: 완전연결밀집층(이전 층의 출력이 현재 층의 각 노드와 모두 연결.)\n",
    "    # 파라미터1: 유닛의 개수(일반적으로 32, 64, 128 등 2의 배수.)\n",
    "    # 파라미터2: 활성화함수 (일반적으로 relu, swish)\n",
    "    model = keras.Sequential([\n",
    "        layers.Dense(108, activation='swish', input_shape=[X_train.shape[1]]),\n",
    "        layers.Dense(64, activation='swish'),\n",
    "        layers.Dense(32, activation='swish'),\n",
    "        layers.Dense(1, activation='sigmoid')]\n",
    "    )\n",
    "    \n",
    "    # model compile\n",
    "    # optimizer, loss function, metrics를 설정.\n",
    "    # optimizer는 일반적으로 Adam\n",
    "    # 이진분류의 경우, loss는 binary_crossentropy 사용.\n",
    "    model.compile(\n",
    "        optimizer=keras.optimizers.Adam(learning_rate=0.0007),\n",
    "        loss='binary_crossentropy',\n",
    "        metrics=['AUC']\n",
    "    )\n",
    "    \n",
    "    return model, early_stopping, plateau"
   ]
  },
  {
   "cell_type": "code",
   "execution_count": 9,
   "id": "ed2a7e06",
   "metadata": {},
   "outputs": [
    {
     "ename": "NameError",
     "evalue": "name 'ᄏ' is not defined",
     "output_type": "error",
     "traceback": [
      "\u001b[1;31m---------------------------------------------------------------------------\u001b[0m",
      "\u001b[1;31mNameError\u001b[0m                                 Traceback (most recent call last)",
      "\u001b[1;32m<ipython-input-9-434f80264abe>\u001b[0m in \u001b[0;36m<module>\u001b[1;34m\u001b[0m\n\u001b[1;32m----> 1\u001b[1;33m \u001b[0mㅋ\u001b[0m\u001b[1;33m\u001b[0m\u001b[1;33m\u001b[0m\u001b[0m\n\u001b[0m",
      "\u001b[1;31mNameError\u001b[0m: name 'ᄏ' is not defined"
     ]
    }
   ],
   "source": [
    "ㅋ"
   ]
  },
  {
   "cell_type": "code",
   "execution_count": null,
   "id": "ff02b99e",
   "metadata": {
    "scrolled": true
   },
   "outputs": [],
   "source": [
    "kf = StratifiedKFold(n_splits=5, random_state=0, shuffle=True)\n",
    "\n",
    "preds_valid_f = {}\n",
    "pred_test = []\n",
    "total_auc = []\n",
    "total_histories = None\n",
    "\n",
    "for i, (train_idx, valid_idx) in enumerate(kf.split(X_train, y_train)):\n",
    "    # -----------------------------------------------------------------\n",
    "    # preprocessing\n",
    "    xtrain_scaled = pd.DataFrame(\n",
    "        transformer_high_skew.fit_transform(X_train),\n",
    "        columns=X_train.columns\n",
    "    )\n",
    "    xtest = pd.DataFrame(\n",
    "        transformer_high_skew.transform(X_test),\n",
    "        columns=X_test.columns\n",
    "    )\n",
    "    \n",
    "    # -----------------------------------------------------------------\n",
    "    # split\n",
    "    xtrain, ytrain = xtrain_scaled.iloc[train_idx, :], y_train[train_idx].astype('float')\n",
    "    xvalid, yvalid = xtrain_scaled.iloc[valid_idx, :], y_train[valid_idx].astype('float')\n",
    "    \n",
    "    #index_valid = xvalid.index.tolist()\n",
    "    #xtrain = preprocessor.fit_transform(xtrain)\n",
    "    #xvalid = preprocessor.fit_transform(xvalid)\n",
    "\n",
    "    # -----------------------------------------------------------------\n",
    "    # model\n",
    "    model, early_stopping, plateau = createModel()\n",
    "    history = model.fit(xtrain, ytrain,\n",
    "                       validation_data=(xvalid, yvalid),\n",
    "                       batch_size=2048,\n",
    "                       epochs=700,\n",
    "                       callbacks=[early_stopping, plateau],\n",
    "                       shuffle=True,\n",
    "                       verbose=0)\n",
    "    \n",
    "    # -----------------------------------------------------------------\n",
    "    # oof\n",
    "    pred_valid = model.predict(xvalid).reshape(1, -1)[0]\n",
    "    \n",
    "    # -----------------------------------------------------------------\n",
    "    # test predictions\n",
    "    pred_test.append(model.predict(xtest).reshape(1, -1)[0])\n",
    "    \n",
    "    # -----------------------------------------------------------------\n",
    "    # Saving scores to plot the end\n",
    "    histories = pd.DataFrame(history.history)\n",
    "    histories['fold'] = i\n",
    "    if not i:\n",
    "        total_histories = histories\n",
    "    else:\n",
    "        total_histories = pd.concat([total_histories, histories], axis=0)\n",
    "    \n",
    "    # -----------------------------------------------------------------\n",
    "    # concatenating valid preds\n",
    "    preds_valid_f.update(dict(zip(valid_idx, preds_valid)))\n",
    "    \n",
    "    # Getting score for a fold model\n",
    "    valid_score = roc_auc_score(yvalid, pred_valid)\n",
    "    print(f'Fold {i} roc_auc_score: {valid_score}')\n",
    "    \n",
    "    # Total auc\n",
    "    total_auc.append(valid_score)\n",
    "\n",
    "print(f'mean roc_auc_score: {np.mean(total_auc)}, std: {np.std(total_auc)}')"
   ]
  },
  {
   "cell_type": "code",
   "execution_count": null,
   "id": "1869a56f",
   "metadata": {},
   "outputs": [],
   "source": [
    "import matplotlib.pyplot as plt\n",
    "\n",
    "for fold in range(f_scores['folds'].nunique()):\n",
    "    history_f = f_scores[f_scores['folds'] == fold]\n",
    "\n",
    "    fig, ax = plt.subplots(1, 2, tight_layout=True, figsize=(14,4))\n",
    "    fig.suptitle('Fold : '+str(fold), fontsize=14)\n",
    "        \n",
    "    plt.subplot(1,2,1)\n",
    "    plt.plot(history_f.loc[:, ['loss', 'val_loss']], label= ['loss', 'val_loss'])\n",
    "    plt.legend(fontsize=15)\n",
    "    plt.grid()\n",
    "    \n",
    "    plt.subplot(1,2,2)\n",
    "    plt.plot(history_f.loc[:, ['auc', 'val_auc']],label= ['auc', 'val_auc'])\n",
    "    plt.legend(fontsize=15)\n",
    "    plt.grid()\n",
    "    \n",
    "    print(\"Validation Loss: {:0.4f}\".format(history_f['val_loss'].min()));"
   ]
  },
  {
   "cell_type": "code",
   "execution_count": null,
   "id": "9f11f3ea",
   "metadata": {},
   "outputs": [],
   "source": [
    "sub = pd.read_csv(\"../input/tabular-playground-series-nov-2021/sample_submission.csv\")\n",
    "sub['target'] = np.mean(preds_test, axis = 0)\n",
    "sub.to_csv('submission.csv', index=False)\n",
    "sub.head()"
   ]
  },
  {
   "cell_type": "code",
   "execution_count": null,
   "id": "427f69ce",
   "metadata": {},
   "outputs": [],
   "source": []
  }
 ],
 "metadata": {
  "hide_input": false,
  "kernelspec": {
   "display_name": "Python 3",
   "language": "python",
   "name": "python3"
  },
  "language_info": {
   "codemirror_mode": {
    "name": "ipython",
    "version": 3
   },
   "file_extension": ".py",
   "mimetype": "text/x-python",
   "name": "python",
   "nbconvert_exporter": "python",
   "pygments_lexer": "ipython3",
   "version": "3.8.8"
  }
 },
 "nbformat": 4,
 "nbformat_minor": 5
}
