{
 "cells": [
  {
   "cell_type": "markdown",
   "metadata": {},
   "source": [
    "<p style='text-align:center;font-family: sans-serif;font-weight:bold;color:#616161;font-size:25px;margin: 30px;'>Titanic</p>\n",
    "<p style='text-align:center;font-family: sans-serif ;font-weight:bold;color:black;font-size:30px;margin: 10px;'>VisualizeEDA + Optimize for <font color='#08B4E4'>Beginners</font> (Top3%)</p>\n",
    "<p style=\"text-align:center;font-family: sans-serif ;font-weight:bold;color:#616161;font-size:20px;margin: 30px;\">RF, XGB, Voting for classification</p>"
   ]
  },
  {
   "cell_type": "markdown",
   "metadata": {},
   "source": [
    "Hello. Nice to meet you. I'm a student who's been fascinated by the charm of Kaggle lately and studying hard. I studied the good notes of many Kagglers through Titanic examples and tried to organize them in my own way. In particular, I focused on visualization, preprocessing, and model tuning methods that are useful for binary classification. After a lot of trial and error, I got the top 3% test score and decided to write a note for other Kagglers, especially beginners like me.\n",
    "  \n",
    "Through this note, you can learn the following.\n",
    "  \n",
    "  1. Random Forest, XGB Hyperparameter Tuning: You can optimize your model through Random Search, Grid Search, and sequential tuning.\n",
    "  2. Ensemble: Voting: Ensemble: Voting: You can use the Voting algorithm to improve the performance of your taxonomic model. I built and verified a total of 52 types of Voting models.\n",
    "  3. Visualization for EDA: You can effectively visualize binary sorting problems.\n",
    "  4. Basic preprocessing: To solve binary sorting problems, you can learn preprocessing methods such as pruning, generating derivative variables, transforming variables, and selecting variables.\n",
    "  \n",
    "If you follow this note and submit the results, you will get a high score (0.806). Hyper parameter tuning takes a lot of time, so I defined a variable called allow_tuning so that users can choose this process. If you want to perform hyperparameter tuning yourself, change allow_tuning to True (it takes a lot of time on the Kagle kernel, so it is recommended that you do-it-yourself environment)."
   ]
  },
  {
   "cell_type": "markdown",
   "metadata": {},
   "source": [
    "# Import Modules"
   ]
  },
  {
   "cell_type": "code",
   "execution_count": null,
   "metadata": {
    "execution": {
     "iopub.execute_input": "2021-11-14T04:50:05.111335Z",
     "iopub.status.busy": "2021-11-14T04:50:05.110998Z",
     "iopub.status.idle": "2021-11-14T04:50:06.554491Z",
     "shell.execute_reply": "2021-11-14T04:50:06.55363Z",
     "shell.execute_reply.started": "2021-11-14T04:50:05.111255Z"
    }
   },
   "outputs": [],
   "source": [
    "import numpy as np\n",
    "import pandas as pd\n",
    "pd.set_option('max_columns', 90)\n",
    "import matplotlib.pyplot as plt\n",
    "import seaborn as sns\n",
    "PALETTE = ['#dd4124','#009473', '#b4b4b4', '#336b87']\n",
    "BACKCOLOR = '#f6f5f5'\n",
    "sns.set_palette(PALETTE)\n",
    "\n",
    "from scipy.stats import norm, probplot, skew\n",
    "from scipy.special import boxcox1p\n",
    "import warnings\n",
    "warnings.filterwarnings('ignore')\n",
    "\n",
    "from sklearn.preprocessing import LabelEncoder, OneHotEncoder, StandardScaler, RobustScaler\n",
    "from sklearn.model_selection import GridSearchCV, cross_val_score, KFold, RepeatedStratifiedKFold\n",
    "from sklearn.model_selection import RepeatedKFold, train_test_split, RandomizedSearchCV\n",
    "from sklearn.neighbors import  KNeighborsClassifier as knn\n",
    "from sklearn.linear_model import LogisticRegression\n",
    "from sklearn.svm import SVC\n",
    "from sklearn.ensemble import RandomForestClassifier, VotingClassifier\n",
    "import xgboost\n",
    "from xgboost import XGBClassifier\n",
    "from sklearn.metrics import auc, accuracy_score, confusion_matrix\n",
    "\n",
    "from IPython.core.display import HTML\n",
    "\n",
    "import matplotlib as mpl\n",
    "mpl.rcParams['figure.dpi'] = 120\n",
    "mpl.rcParams['axes.spines.top'] = False\n",
    "mpl.rcParams['axes.spines.right'] = False"
   ]
  },
  {
   "cell_type": "markdown",
   "metadata": {},
   "source": [
    "# Read Data"
   ]
  },
  {
   "cell_type": "code",
   "execution_count": null,
   "metadata": {
    "execution": {
     "iopub.execute_input": "2021-11-14T04:50:06.556452Z",
     "iopub.status.busy": "2021-11-14T04:50:06.556244Z",
     "iopub.status.idle": "2021-11-14T04:50:06.594791Z",
     "shell.execute_reply": "2021-11-14T04:50:06.594187Z",
     "shell.execute_reply.started": "2021-11-14T04:50:06.556427Z"
    }
   },
   "outputs": [],
   "source": [
    "# Import training and test data.\n",
    "train = pd.read_csv('../input/titanic/train.csv')\n",
    "test = pd.read_csv('../input/titanic/test.csv')\n",
    "\n",
    "# When exploring a dataset, it is recommended to use the entire data.\n",
    "all_data = pd.concat((train, test)).reset_index(drop=True)"
   ]
  },
  {
   "cell_type": "code",
   "execution_count": null,
   "metadata": {
    "execution": {
     "iopub.execute_input": "2021-11-14T04:50:06.596188Z",
     "iopub.status.busy": "2021-11-14T04:50:06.595836Z",
     "iopub.status.idle": "2021-11-14T04:50:06.62027Z",
     "shell.execute_reply": "2021-11-14T04:50:06.619424Z",
     "shell.execute_reply.started": "2021-11-14T04:50:06.596147Z"
    }
   },
   "outputs": [],
   "source": [
    "all_data.head(10)"
   ]
  },
  {
   "cell_type": "markdown",
   "metadata": {},
   "source": [
    "# Understand each features"
   ]
  },
  {
   "cell_type": "code",
   "execution_count": null,
   "metadata": {
    "execution": {
     "iopub.execute_input": "2021-11-14T04:50:06.622255Z",
     "iopub.status.busy": "2021-11-14T04:50:06.622039Z",
     "iopub.status.idle": "2021-11-14T04:50:06.640685Z",
     "shell.execute_reply": "2021-11-14T04:50:06.639802Z",
     "shell.execute_reply.started": "2021-11-14T04:50:06.62223Z"
    }
   },
   "outputs": [],
   "source": [
    "all_data.info()"
   ]
  },
  {
   "cell_type": "markdown",
   "metadata": {},
   "source": [
    "Through the above process, we can learn the following facts.  \n",
    "1) There are 1309 points in total.    \n",
    "2) There are a total of 11 variables.  \n",
    "3) Age, Fare and Cabin have missing values.  \n",
    "4) Numerical variables(int, float): PassengerId, Pclass, Age, SibSp, Parch, and Fare.  \n",
    "5) Category variables(object): Name, Sex, Ticket, Cabin, Embarked."
   ]
  },
  {
   "cell_type": "markdown",
   "metadata": {},
   "source": [
    "|Variable|Definition|Key|\n",
    "|------|---|---|\n",
    "|Survived|Survival|0 = No, 1= Yes|\n",
    "|Pclass|Ticket class|1=1st, 2=2nd, 3=3rd|\n",
    "|Sex|Sex||\n",
    "|Age|Age in years||\n",
    "|SibSp|number of siblings / spouses aboard the Titanic||\n",
    "|Parch|number of parents / children aboard the Titanic||\n",
    "|Ticket|Ticket number||\n",
    "|Fare|Passenger fare||\n",
    "|Cabin|Cabin number||\n",
    "|Embarked|Port of Embarkation|C = Cherbourg, Q = Queenstown, S = Southampton|"
   ]
  },
  {
   "cell_type": "markdown",
   "metadata": {},
   "source": [
    " Reading the meaning of variables has many advantages.    \n",
    "  \n",
    "You can see the actual data types of all variables. All variables are separated as numerical, categorical data, and categorical data are separated back to ordinal / nominal. However, the variables in the program are divided into (int and float) / object. We cannot determine that all int and float variables mean actual countinuous numbers. Reading the data description table and then dividing it directly is a reliable way to distinguish between data types. For example, Pclass is an int type. However, it is an ordinal variable with keys 1st, 2nd, and 3rd. This variable may later be label encoded and scaled. Embarked is an object variable. You don't know if it's ordinal or nominal. If you look at the table, you can be sure that it is a nominal variable with the keys Cherbourg, Queenstown, and Southampton."
   ]
  },
  {
   "cell_type": "code",
   "execution_count": null,
   "metadata": {
    "execution": {
     "iopub.execute_input": "2021-11-14T04:50:06.642635Z",
     "iopub.status.busy": "2021-11-14T04:50:06.642309Z",
     "iopub.status.idle": "2021-11-14T04:50:06.650539Z",
     "shell.execute_reply": "2021-11-14T04:50:06.649798Z",
     "shell.execute_reply.started": "2021-11-14T04:50:06.642579Z"
    }
   },
   "outputs": [],
   "source": [
    "def multi_table(table_list):\n",
    "    return HTML(\n",
    "        f\"<table><tr> {''.join(['<td>' + table._repr_html_() + '</td>' for table in table_list])} </tr></table>\")"
   ]
  },
  {
   "cell_type": "code",
   "execution_count": null,
   "metadata": {
    "execution": {
     "iopub.execute_input": "2021-11-14T04:50:06.652745Z",
     "iopub.status.busy": "2021-11-14T04:50:06.651996Z",
     "iopub.status.idle": "2021-11-14T04:50:06.692166Z",
     "shell.execute_reply": "2021-11-14T04:50:06.691591Z",
     "shell.execute_reply.started": "2021-11-14T04:50:06.652703Z"
    }
   },
   "outputs": [],
   "source": [
    "multi_table([pd.DataFrame(all_data[i].value_counts()) for i in all_data.columns])"
   ]
  },
  {
   "cell_type": "markdown",
   "metadata": {},
   "source": [
    "We can be sure of some facts.\n",
    "  \n",
    "1) Continuous variables: Age, SibSp, Parch, Fare  \n",
    "2) Ordinal variables: Pclass  \n",
    "3) Nominal variables: PassengerId, Survived, Name, Sex, Ticket, Cabin, Embarked  \n",
    "4) Pclass is already encoded in numbers. Therefore, leave it as it is.  \n",
    "5) Name and Cabin are too many items to use.  "
   ]
  },
  {
   "cell_type": "code",
   "execution_count": null,
   "metadata": {
    "execution": {
     "iopub.execute_input": "2021-11-14T04:50:06.693461Z",
     "iopub.status.busy": "2021-11-14T04:50:06.69314Z",
     "iopub.status.idle": "2021-11-14T04:50:06.697753Z",
     "shell.execute_reply": "2021-11-14T04:50:06.696915Z",
     "shell.execute_reply.started": "2021-11-14T04:50:06.693435Z"
    }
   },
   "outputs": [],
   "source": [
    "numerical_vars = ['Age', 'SibSp', 'Parch', 'Fare']\n",
    "ordinal_vars = ['Pclass']\n",
    "nominal_vars = ['Survived', 'Name', 'Sex', 'Ticket', 'Cabin', 'Embarked']"
   ]
  },
  {
   "cell_type": "markdown",
   "metadata": {},
   "source": [
    "# Variables explore"
   ]
  },
  {
   "cell_type": "markdown",
   "metadata": {},
   "source": [
    "## Survived (Dependent, Nominal)"
   ]
  },
  {
   "cell_type": "code",
   "execution_count": null,
   "metadata": {
    "execution": {
     "iopub.execute_input": "2021-11-14T04:50:06.699162Z",
     "iopub.status.busy": "2021-11-14T04:50:06.698944Z",
     "iopub.status.idle": "2021-11-14T04:50:06.953655Z",
     "shell.execute_reply": "2021-11-14T04:50:06.952802Z",
     "shell.execute_reply.started": "2021-11-14T04:50:06.699136Z"
    }
   },
   "outputs": [],
   "source": [
    "total_cnt = train.Survived.count()\n",
    "plt.subplots(figsize=(10, 6))\n",
    "g = sns.countplot(train.Survived, edgecolor='black', linewidth=4)\n",
    "g.set_xlabel('Survived', weight='bold', size=13)\n",
    "g.set_ylabel('Count', weight='bold', size=13)\n",
    "g.set_facecolor(BACKCOLOR)\n",
    "g.spines[['top', 'right']].set_visible(False)\n",
    "g.set_title(f\"Survived's distribution\", size=15, weight='bold')\n",
    "for patch in g.patches:\n",
    "    x, height, width = patch.get_x(), patch.get_height(), patch.get_width()\n",
    "    g.text(x + width / 2, height + 5, f'{height} / {height / total_cnt * 100:2.2f}%', va='center', ha='center', size=15, bbox={'facecolor': 'white', 'boxstyle': 'round'})\n",
    "plt.show()"
   ]
  },
  {
   "cell_type": "markdown",
   "metadata": {},
   "source": [
    "Survived:  \n",
    "It is important to first determine the distribution of dependent variables. You need to know beforehand whether there are biased and unbalanced problems in both classes.\n",
    "Survived is a binary variable consisting of 0 and 1. As a result of drawing the countplot, 0 represents 62% and 1 represents 38%. 0 is more than 1, but one of them is not too biased, so it can be analyzed."
   ]
  },
  {
   "cell_type": "markdown",
   "metadata": {},
   "source": [
    "## Pclass"
   ]
  },
  {
   "cell_type": "markdown",
   "metadata": {},
   "source": [
    "I created a simple function using the countplot I used earlier. You can apply any number of seaborn functions."
   ]
  },
  {
   "cell_type": "code",
   "execution_count": null,
   "metadata": {
    "execution": {
     "iopub.execute_input": "2021-11-14T04:50:06.955708Z",
     "iopub.status.busy": "2021-11-14T04:50:06.955037Z",
     "iopub.status.idle": "2021-11-14T04:50:06.968104Z",
     "shell.execute_reply": "2021-11-14T04:50:06.967185Z",
     "shell.execute_reply.started": "2021-11-14T04:50:06.955664Z"
    }
   },
   "outputs": [],
   "source": [
    "def cat_dist(data, var, hue, msg_show=True):\n",
    "    total_cnt = data[var].count()\n",
    "    f, ax = plt.subplots(1, 2, figsize=(20, 6))\n",
    "    hues = [None, hue]\n",
    "    titles = [f\"{var}'s distribution\", f\"{var}'s distribution by {hue}\"]\n",
    "\n",
    "    for i in range(2):\n",
    "        sns.countplot(data[var], edgecolor='black', hue=hues[i], linewidth=4, ax=ax[i], data=data)\n",
    "        ax[i].set_xlabel(var, weight='bold', size=13)\n",
    "        ax[i].set_ylabel('Count', weight='bold', size=13)\n",
    "        ax[i].set_facecolor(BACKCOLOR)\n",
    "        ax[i].spines[['top', 'right']].set_visible(False)\n",
    "        ax[i].set_title(titles[i], size=15, weight='bold')\n",
    "        for patch in ax[i].patches:\n",
    "            x, height, width = patch.get_x(), patch.get_height(), patch.get_width()\n",
    "            if msg_show:\n",
    "                ax[i].text(x + width / 2, height + 3, f'{height} \\n({height / total_cnt * 100:2.2f}%)', va='center', ha='center', size=12, bbox={'facecolor': 'white', 'boxstyle': 'round'})\n",
    "    plt.show()"
   ]
  },
  {
   "cell_type": "code",
   "execution_count": null,
   "metadata": {
    "execution": {
     "iopub.execute_input": "2021-11-14T04:50:06.971991Z",
     "iopub.status.busy": "2021-11-14T04:50:06.971732Z",
     "iopub.status.idle": "2021-11-14T04:50:07.430463Z",
     "shell.execute_reply": "2021-11-14T04:50:07.429653Z",
     "shell.execute_reply.started": "2021-11-14T04:50:06.971958Z"
    }
   },
   "outputs": [],
   "source": [
    "cat_dist(train, var='Pclass', hue='Survived')"
   ]
  },
  {
   "cell_type": "code",
   "execution_count": null,
   "metadata": {
    "execution": {
     "iopub.execute_input": "2021-11-14T04:50:07.432434Z",
     "iopub.status.busy": "2021-11-14T04:50:07.432157Z",
     "iopub.status.idle": "2021-11-14T04:50:07.54256Z",
     "shell.execute_reply": "2021-11-14T04:50:07.541761Z",
     "shell.execute_reply.started": "2021-11-14T04:50:07.432401Z"
    }
   },
   "outputs": [],
   "source": [
    " train.pivot_table(index=\"Pclass\", values=\"Survived\", aggfunc=['count', 'sum', 'mean']).style.background_gradient(vmin=0)"
   ]
  },
  {
   "cell_type": "markdown",
   "metadata": {},
   "source": [
    "We can see some facts from the above picture.\n",
    "\n",
    "1) In Pclass, 3 accounts for the largest percentage (55%).  \n",
    "2) For Pclass, 2 is the smallest (21%).  \n",
    "3) Pclass1 has a larger percentage of survivors.  \n",
    "4. Pclass 2 has a higher death rate.  \n",
    "5) Pclass3 has an overwhelming death rate.  \n",
    "\n",
    "=> Most passengers belong to Pclass 3 and most are dead. The percentage of survivors increases from 3 to 1. This variable is the core variable in the classification because the difference in survival rates is obvious depending on the Pclass."
   ]
  },
  {
   "cell_type": "markdown",
   "metadata": {},
   "source": [
    "## Sex"
   ]
  },
  {
   "cell_type": "code",
   "execution_count": null,
   "metadata": {
    "execution": {
     "iopub.execute_input": "2021-11-14T04:50:07.544531Z",
     "iopub.status.busy": "2021-11-14T04:50:07.544156Z",
     "iopub.status.idle": "2021-11-14T04:50:07.949264Z",
     "shell.execute_reply": "2021-11-14T04:50:07.948381Z",
     "shell.execute_reply.started": "2021-11-14T04:50:07.544491Z"
    }
   },
   "outputs": [],
   "source": [
    "cat_dist(train, var='Sex', hue='Survived')"
   ]
  },
  {
   "cell_type": "code",
   "execution_count": null,
   "metadata": {
    "execution": {
     "iopub.execute_input": "2021-11-14T04:50:07.951184Z",
     "iopub.status.busy": "2021-11-14T04:50:07.950792Z",
     "iopub.status.idle": "2021-11-14T04:50:07.994657Z",
     "shell.execute_reply": "2021-11-14T04:50:07.993795Z",
     "shell.execute_reply.started": "2021-11-14T04:50:07.951139Z"
    }
   },
   "outputs": [],
   "source": [
    "train.pivot_table(index='Sex', values='Survived', aggfunc=['count', 'sum', 'mean']).style.background_gradient(vmin=0)"
   ]
  },
  {
   "cell_type": "markdown",
   "metadata": {},
   "source": [
    "We can see some facts from the above picture.\n",
    "\n",
    "1) 65% of all passengers are male and 35% are female.  \n",
    "2) The survival rate of men (18%) is significantly lower than that of women (74%).  \n",
    "\n",
    "=> Sex is a key variable in this problem because there are clear differences in survival rates depending on gender."
   ]
  },
  {
   "cell_type": "markdown",
   "metadata": {},
   "source": [
    "## Pclass and Sex"
   ]
  },
  {
   "cell_type": "code",
   "execution_count": null,
   "metadata": {
    "execution": {
     "iopub.execute_input": "2021-11-14T04:50:07.996039Z",
     "iopub.status.busy": "2021-11-14T04:50:07.995813Z",
     "iopub.status.idle": "2021-11-14T04:50:08.299594Z",
     "shell.execute_reply": "2021-11-14T04:50:08.29895Z",
     "shell.execute_reply.started": "2021-11-14T04:50:07.996001Z"
    }
   },
   "outputs": [],
   "source": [
    "# Heatmap can visualize continuous values (or binary variables) in categories and categories.\n",
    "plt.subplots(figsize=(10, 5))\n",
    "g = sns.heatmap(train.pivot_table(index='Pclass', columns='Sex', values='Survived'), annot=True, cmap=\"YlGnBu\")\n",
    "g.set_title('Survived ratio by Pclass and Sex', weight='bold', size=15)\n",
    "g.set_xlabel('Sex', weight='bold', size=13)\n",
    "g.set_ylabel('Pclass', weight='bold', size=13)\n",
    "plt.show()"
   ]
  },
  {
   "cell_type": "code",
   "execution_count": null,
   "metadata": {
    "execution": {
     "iopub.execute_input": "2021-11-14T04:50:08.301812Z",
     "iopub.status.busy": "2021-11-14T04:50:08.300995Z",
     "iopub.status.idle": "2021-11-14T04:50:08.356553Z",
     "shell.execute_reply": "2021-11-14T04:50:08.355707Z",
     "shell.execute_reply.started": "2021-11-14T04:50:08.301764Z"
    }
   },
   "outputs": [],
   "source": [
    "pd.crosstab([train.Sex, train.Survived], train.Pclass,margins=True).style.background_gradient()"
   ]
  },
  {
   "cell_type": "markdown",
   "metadata": {},
   "source": [
    "Women in Pclass 1 are said to have the highest survival rate. On the other hand, men in Pclass 3 have the lowest survival rate."
   ]
  },
  {
   "cell_type": "markdown",
   "metadata": {},
   "source": [
    "## Age"
   ]
  },
  {
   "cell_type": "code",
   "execution_count": null,
   "metadata": {
    "execution": {
     "iopub.execute_input": "2021-11-14T05:43:32.918435Z",
     "iopub.status.busy": "2021-11-14T05:43:32.918014Z",
     "iopub.status.idle": "2021-11-14T05:43:33.434795Z",
     "shell.execute_reply": "2021-11-14T05:43:33.433959Z",
     "shell.execute_reply.started": "2021-11-14T05:43:32.918396Z"
    }
   },
   "outputs": [],
   "source": [
    "f, ax = plt.subplots(1, 2, figsize=(25, 5))\n",
    "sns.distplot(train.Age, ax=ax[0])\n",
    "sns.distplot(train.loc[train.Survived == 0, 'Age'], ax=ax[1])\n",
    "sns.distplot(train.loc[train.Survived == 1, 'Age'], ax=ax[1])\n",
    "\n",
    "for i in range(2):\n",
    "    ax[i].spines[['top','right']].set_visible(False)\n",
    "    ax[i].set_xlabel('Age', weight='bold', size=15)\n",
    "    ax[i].set_ylabel('Density', weight='bold', size=15)\n",
    "    ax[i].set_facecolor(BACKCOLOR)\n",
    "f.suptitle(\"Age' distribution\", weight='bold', size=20)\n",
    "plt.show()"
   ]
  },
  {
   "cell_type": "code",
   "execution_count": null,
   "metadata": {
    "execution": {
     "iopub.execute_input": "2021-11-14T04:50:08.937742Z",
     "iopub.status.busy": "2021-11-14T04:50:08.937356Z",
     "iopub.status.idle": "2021-11-14T04:50:08.948599Z",
     "shell.execute_reply": "2021-11-14T04:50:08.948059Z",
     "shell.execute_reply.started": "2021-11-14T04:50:08.937701Z"
    }
   },
   "outputs": [],
   "source": [
    "def continuous_dist(data, x, y):\n",
    "    f, ax = plt.subplots(1, 3, figsize=(35, 10))\n",
    "    sns.violinplot(x=data[x], y=data[y], ax=ax[0], edgecolor='black', linewidth=5)\n",
    "    sns.boxplot(x=data[x], y=data[y], ax=ax[1])\n",
    "    sns.stripplot(x=data[x], y=data[y], ax=ax[2])\n",
    "    for i in range(3):\n",
    "        ax[i].spines[['top','right']].set_visible(False)\n",
    "        ax[i].set_xlabel(x, weight='bold', size=20)\n",
    "        ax[i].set_ylabel(y, weight='bold', size=20)\n",
    "        ax[i].set_facecolor(BACKCOLOR)\n",
    "    f.suptitle(f\"{y}'s distribution by {x}\", weight='bold', size=25)\n",
    "    plt.show()"
   ]
  },
  {
   "cell_type": "code",
   "execution_count": null,
   "metadata": {
    "execution": {
     "iopub.execute_input": "2021-11-14T04:50:08.950225Z",
     "iopub.status.busy": "2021-11-14T04:50:08.949846Z",
     "iopub.status.idle": "2021-11-14T04:50:09.679646Z",
     "shell.execute_reply": "2021-11-14T04:50:09.679059Z",
     "shell.execute_reply.started": "2021-11-14T04:50:08.950181Z"
    }
   },
   "outputs": [],
   "source": [
    "continuous_dist(train, x='Survived', y='Age')"
   ]
  },
  {
   "cell_type": "markdown",
   "metadata": {},
   "source": [
    "You can see some facts from the diagram above.\n",
    "\n",
    "Passengers in their 20s and 40s are the most common.\n",
    "2) Age distribution is similar regardless of survival.  \n",
    "3) Most passengers in their 50s and older died (violin, boxplot), but the oldest survived (strippplot).  \n",
    "4) The survival rate of children is higher than that of those in their 20s and 30s.(You can tell by looking at violin)  \n",
    "\n",
    "=> If you look at the histogram, the age distribution of survival is similar. I observed more closely through violin plots, box plots, and strip plots, and I was convinced that age would affect survival. In particular, the survival rate of infants is high, and the survival rate of people in their 20s and 30s is low. I felt it was necessary to categorize age variables into sections and see the survival rate by age group more clearly."
   ]
  },
  {
   "cell_type": "code",
   "execution_count": null,
   "metadata": {
    "execution": {
     "iopub.execute_input": "2021-11-14T04:50:09.681333Z",
     "iopub.status.busy": "2021-11-14T04:50:09.680905Z",
     "iopub.status.idle": "2021-11-14T04:50:09.70368Z",
     "shell.execute_reply": "2021-11-14T04:50:09.702799Z",
     "shell.execute_reply.started": "2021-11-14T04:50:09.681302Z"
    }
   },
   "outputs": [],
   "source": [
    "import copy\n",
    "\n",
    "tmp_train = copy.deepcopy(train)\n",
    "tmp_train['AgeBin'] = 6\n",
    "for i in range(6):\n",
    "    tmp_train.loc[(tmp_train.Age >= 10*i) & (tmp_train.Age < 10*(i + 1)), 'AgeBin'] = i\n",
    "tmp_train.head(3)"
   ]
  },
  {
   "cell_type": "code",
   "execution_count": null,
   "metadata": {
    "execution": {
     "iopub.execute_input": "2021-11-14T04:50:09.705453Z",
     "iopub.status.busy": "2021-11-14T04:50:09.705209Z",
     "iopub.status.idle": "2021-11-14T04:50:09.843002Z",
     "shell.execute_reply": "2021-11-14T04:50:09.842176Z",
     "shell.execute_reply.started": "2021-11-14T04:50:09.705424Z"
    }
   },
   "outputs": [],
   "source": [
    "t0 = pd.pivot_table(index='AgeBin', values='Survived', data=tmp_train).style.background_gradient()\n",
    "t1 = pd.pivot_table(index='Pclass', columns='AgeBin', values='Survived', data=tmp_train).style.background_gradient()\n",
    "t2 = pd.crosstab([tmp_train.AgeBin, tmp_train.Pclass], [tmp_train.Sex, tmp_train.Survived],margins=True).style.background_gradient(vmax=100)\n",
    "t3 = pd.pivot_table(index='Sex', columns='AgeBin', values='Survived', data=tmp_train).style.background_gradient()\n",
    "multi_table([t3, t0, t1, t2])"
   ]
  },
  {
   "cell_type": "code",
   "execution_count": null,
   "metadata": {
    "execution": {
     "iopub.execute_input": "2021-11-14T04:50:09.844555Z",
     "iopub.status.busy": "2021-11-14T04:50:09.844316Z",
     "iopub.status.idle": "2021-11-14T04:50:10.301919Z",
     "shell.execute_reply": "2021-11-14T04:50:10.301264Z",
     "shell.execute_reply.started": "2021-11-14T04:50:09.844526Z"
    }
   },
   "outputs": [],
   "source": [
    "cat_dist(tmp_train, var='AgeBin', hue='Survived', msg_show=False)"
   ]
  },
  {
   "cell_type": "markdown",
   "metadata": {},
   "source": [
    "We can be sure that the survival rate varies from age to age. There are missing values at the current age. Age is a continuous variable, so we can process missing values with central tendency values such as mean and median. However, I don't think this method is a good way because age is a variable that has a lot to do with survival. After I found other variables that seemed to be more relevant to age, I decided to treat unrecorded passengers as the average age of other passengers who had similar characteristics to me."
   ]
  },
  {
   "cell_type": "code",
   "execution_count": null,
   "metadata": {
    "execution": {
     "iopub.execute_input": "2021-11-14T04:50:10.303309Z",
     "iopub.status.busy": "2021-11-14T04:50:10.303007Z",
     "iopub.status.idle": "2021-11-14T04:50:10.311083Z",
     "shell.execute_reply": "2021-11-14T04:50:10.310311Z",
     "shell.execute_reply.started": "2021-11-14T04:50:10.303282Z"
    }
   },
   "outputs": [],
   "source": [
    "all_data.corr().Age"
   ]
  },
  {
   "cell_type": "code",
   "execution_count": null,
   "metadata": {
    "execution": {
     "iopub.execute_input": "2021-11-14T04:50:10.313249Z",
     "iopub.status.busy": "2021-11-14T04:50:10.312947Z",
     "iopub.status.idle": "2021-11-14T04:50:11.201034Z",
     "shell.execute_reply": "2021-11-14T04:50:11.199907Z",
     "shell.execute_reply.started": "2021-11-14T04:50:10.313212Z"
    }
   },
   "outputs": [],
   "source": [
    "continuous_dist(train, x='Pclass', y='Age')"
   ]
  },
  {
   "cell_type": "markdown",
   "metadata": {},
   "source": [
    "Check the distribution of Pclasses with relatively high correlation coefficients with Age. The average age is the highest in Pclass1 and the lowest in Pclass3. Through this result, you will be able to process age missing values as average values by Pclass. We haven't generated a derivative variable yet, so we can do this again with the variables that will be added later."
   ]
  },
  {
   "cell_type": "markdown",
   "metadata": {},
   "source": [
    "## SibSp and Parch"
   ]
  },
  {
   "cell_type": "code",
   "execution_count": null,
   "metadata": {
    "execution": {
     "iopub.execute_input": "2021-11-14T04:50:11.202931Z",
     "iopub.status.busy": "2021-11-14T04:50:11.202598Z",
     "iopub.status.idle": "2021-11-14T04:50:12.224601Z",
     "shell.execute_reply": "2021-11-14T04:50:12.22389Z",
     "shell.execute_reply.started": "2021-11-14T04:50:11.202894Z"
    }
   },
   "outputs": [],
   "source": [
    "f, ax = plt.subplots(1, 4, figsize=(25, 5))\n",
    "sns.distplot(train.SibSp, ax=ax[0])\n",
    "sns.distplot(train.loc[train.Survived == 0, 'SibSp'], ax=ax[1])\n",
    "sns.distplot(train.loc[train.Survived == 1, 'SibSp'], ax=ax[1])\n",
    "\n",
    "sns.distplot(train.Parch, ax=ax[2])\n",
    "sns.distplot(train.loc[train.Survived == 0, 'Parch'], ax=ax[3])\n",
    "sns.distplot(train.loc[train.Survived == 1, 'Parch'], ax=ax[3])\n",
    "\n",
    "for i in range(4):\n",
    "    ax[i].spines[['top','right']].set_visible(False)\n",
    "    if i < 2:\n",
    "        ax[i].set_xlabel('SibSp', weight='bold', size=10)\n",
    "    else:\n",
    "        ax[i].set_xlabel('Parch', weight='bold', size=10)\n",
    "    ax[i].set_ylabel('Density', weight='bold', size=10)\n",
    "    ax[i].set_facecolor(BACKCOLOR)\n",
    "f.suptitle(\"SibSp and Parch' distribution\", weight='bold', size=20)\n",
    "plt.show()"
   ]
  },
  {
   "cell_type": "code",
   "execution_count": null,
   "metadata": {
    "execution": {
     "iopub.execute_input": "2021-11-14T04:50:12.22629Z",
     "iopub.status.busy": "2021-11-14T04:50:12.225883Z",
     "iopub.status.idle": "2021-11-14T04:50:12.908932Z",
     "shell.execute_reply": "2021-11-14T04:50:12.908124Z",
     "shell.execute_reply.started": "2021-11-14T04:50:12.226261Z"
    }
   },
   "outputs": [],
   "source": [
    "continuous_dist(train, x='Survived', y='SibSp')"
   ]
  },
  {
   "cell_type": "code",
   "execution_count": null,
   "metadata": {
    "execution": {
     "iopub.execute_input": "2021-11-14T04:50:12.910341Z",
     "iopub.status.busy": "2021-11-14T04:50:12.910115Z",
     "iopub.status.idle": "2021-11-14T04:50:13.581377Z",
     "shell.execute_reply": "2021-11-14T04:50:13.58054Z",
     "shell.execute_reply.started": "2021-11-14T04:50:12.910313Z"
    }
   },
   "outputs": [],
   "source": [
    "continuous_dist(train, x='Survived', y='Parch')"
   ]
  },
  {
   "cell_type": "code",
   "execution_count": null,
   "metadata": {
    "execution": {
     "iopub.execute_input": "2021-11-14T04:50:13.582833Z",
     "iopub.status.busy": "2021-11-14T04:50:13.582583Z",
     "iopub.status.idle": "2021-11-14T04:50:13.633175Z",
     "shell.execute_reply": "2021-11-14T04:50:13.632611Z",
     "shell.execute_reply.started": "2021-11-14T04:50:13.582804Z"
    }
   },
   "outputs": [],
   "source": [
    "t0 = pd.pivot_table(index='SibSp', values='Survived', data=train).style.bar()\n",
    "t1 = pd.pivot_table(index='Parch', values='Survived', data=train).style.bar()\n",
    "t2 = pd.pivot_table(index='SibSp', columns='Parch', values='Survived', data=train).style.bar()\n",
    "multi_table([t0, t1, t2])"
   ]
  },
  {
   "cell_type": "markdown",
   "metadata": {},
   "source": [
    "Through this process, you can learn several facts.\n",
    "\n",
    "1) The survival rate of single-person passengers without family members is low (34-35%).  \n",
    "2) The survival rate of passengers with brothers and sisters above 3 will decrease.  \n",
    "3) In the case of passengers who are not with parents or children, the survival rate increases with the number of brothers and sisters, but the survival rate of passengers who are with two parents or children gradually decreases.\n",
    "\n",
    "=> SibSp and Parch are expected to affect survival rates. Since both variables are family-related variables, it is considered possible to combine them."
   ]
  },
  {
   "cell_type": "markdown",
   "metadata": {},
   "source": [
    "## Fare"
   ]
  },
  {
   "cell_type": "code",
   "execution_count": null,
   "metadata": {
    "execution": {
     "iopub.execute_input": "2021-11-14T04:50:13.638403Z",
     "iopub.status.busy": "2021-11-14T04:50:13.637776Z",
     "iopub.status.idle": "2021-11-14T04:50:14.53944Z",
     "shell.execute_reply": "2021-11-14T04:50:14.538828Z",
     "shell.execute_reply.started": "2021-11-14T04:50:13.638368Z"
    }
   },
   "outputs": [],
   "source": [
    "f, ax = plt.subplots(1, 3, figsize=(25, 5))\n",
    "sns.distplot(train.Age, ax=ax[0])\n",
    "sns.distplot(train.loc[train.Survived == 0, 'Fare'], ax=ax[1])\n",
    "sns.distplot(train.loc[train.Survived == 1, 'Fare'], ax=ax[1])\n",
    "sns.distplot(train.loc[(train.Survived == 0) & (train.Fare < 200), 'Fare'], ax=ax[2])\n",
    "sns.distplot(train.loc[(train.Survived == 1) & (train.Fare < 200), 'Fare'], ax=ax[2])\n",
    "\n",
    "for i in range(3):\n",
    "    ax[i].spines[['top','right']].set_visible(False)\n",
    "    ax[i].set_xlabel('Fare', weight='bold', size=15)\n",
    "    ax[i].set_ylabel('Density', weight='bold', size=15)\n",
    "    ax[i].set_facecolor(BACKCOLOR)\n",
    "f.suptitle(\"Fare' distribution\", weight='bold', size=20)\n",
    "plt.show()"
   ]
  },
  {
   "cell_type": "code",
   "execution_count": null,
   "metadata": {
    "execution": {
     "iopub.execute_input": "2021-11-14T04:50:14.541209Z",
     "iopub.status.busy": "2021-11-14T04:50:14.540494Z",
     "iopub.status.idle": "2021-11-14T04:50:15.183385Z",
     "shell.execute_reply": "2021-11-14T04:50:15.182624Z",
     "shell.execute_reply.started": "2021-11-14T04:50:14.541172Z"
    }
   },
   "outputs": [],
   "source": [
    "continuous_dist(train, x='Survived', y='Fare')"
   ]
  },
  {
   "cell_type": "code",
   "execution_count": null,
   "metadata": {
    "execution": {
     "iopub.execute_input": "2021-11-14T04:50:15.185049Z",
     "iopub.status.busy": "2021-11-14T04:50:15.184829Z",
     "iopub.status.idle": "2021-11-14T04:50:15.37686Z",
     "shell.execute_reply": "2021-11-14T04:50:15.376087Z",
     "shell.execute_reply.started": "2021-11-14T04:50:15.185021Z"
    }
   },
   "outputs": [],
   "source": [
    "tmp_train = copy.deepcopy(train)\n",
    "tmp_train['FareBin'] = pd.cut(tmp_train.Fare, 10)\n",
    "tmp_train['FareBin'] = LabelEncoder().fit_transform(tmp_train.FareBin)\n",
    "tmp_train.head(3)"
   ]
  },
  {
   "cell_type": "code",
   "execution_count": null,
   "metadata": {
    "execution": {
     "iopub.execute_input": "2021-11-14T04:50:15.37824Z",
     "iopub.status.busy": "2021-11-14T04:50:15.37801Z",
     "iopub.status.idle": "2021-11-14T04:50:15.831306Z",
     "shell.execute_reply": "2021-11-14T04:50:15.830532Z",
     "shell.execute_reply.started": "2021-11-14T04:50:15.378212Z"
    }
   },
   "outputs": [],
   "source": [
    "cat_dist(tmp_train, var='FareBin', hue='Survived', msg_show=False)"
   ]
  },
  {
   "cell_type": "markdown",
   "metadata": {},
   "source": [
    "The process is similar to that of exploring Age earlier. You can see the following:\n",
    "\n",
    "1) Fare has a certain degree of normality, but very low levels account for a certain percentage.  \n",
    "2) Groups with very low Fare have lower survival rates, and the higher the Fare, the higher the survival rate.  \n",
    "\n",
    "=> Like Age, Fare can be grouped, which is a variable that clearly affects survival."
   ]
  },
  {
   "cell_type": "markdown",
   "metadata": {},
   "source": [
    "## FareBin and Pclass"
   ]
  },
  {
   "cell_type": "markdown",
   "metadata": {},
   "source": [
    "Fare's level and Pclass are considered to be correlated, so multivariate searches using two variables were conducted."
   ]
  },
  {
   "cell_type": "code",
   "execution_count": null,
   "metadata": {
    "execution": {
     "iopub.execute_input": "2021-11-14T04:50:15.833377Z",
     "iopub.status.busy": "2021-11-14T04:50:15.832538Z",
     "iopub.status.idle": "2021-11-14T04:50:16.160515Z",
     "shell.execute_reply": "2021-11-14T04:50:16.159852Z",
     "shell.execute_reply.started": "2021-11-14T04:50:15.833336Z"
    }
   },
   "outputs": [],
   "source": [
    "plt.subplots(figsize=(15, 6))\n",
    "g = sns.countplot('FareBin', hue='Pclass', data=tmp_train)\n",
    "g.set_title('Count by FareBin and Pclass', weight='bold', size=20)\n",
    "g.spines[['top','right']].set_visible(False)\n",
    "g.set_xlabel('FareBin', weight='bold', size=15)\n",
    "g.set_ylabel('Pclass', weight='bold', size=15)\n",
    "g.set_facecolor(BACKCOLOR)\n",
    "plt.show()"
   ]
  },
  {
   "cell_type": "code",
   "execution_count": null,
   "metadata": {
    "execution": {
     "iopub.execute_input": "2021-11-14T04:50:16.162417Z",
     "iopub.status.busy": "2021-11-14T04:50:16.161597Z",
     "iopub.status.idle": "2021-11-14T04:50:16.188634Z",
     "shell.execute_reply": "2021-11-14T04:50:16.187939Z",
     "shell.execute_reply.started": "2021-11-14T04:50:16.162372Z"
    }
   },
   "outputs": [],
   "source": [
    "pd.pivot_table(index='FareBin', columns='Pclass', values='Survived', data=tmp_train).style.bar()"
   ]
  },
  {
   "cell_type": "markdown",
   "metadata": {},
   "source": [
    "## Embarked"
   ]
  },
  {
   "cell_type": "code",
   "execution_count": null,
   "metadata": {
    "execution": {
     "iopub.execute_input": "2021-11-14T04:50:16.189872Z",
     "iopub.status.busy": "2021-11-14T04:50:16.18966Z",
     "iopub.status.idle": "2021-11-14T04:50:16.637504Z",
     "shell.execute_reply": "2021-11-14T04:50:16.636559Z",
     "shell.execute_reply.started": "2021-11-14T04:50:16.189846Z"
    }
   },
   "outputs": [],
   "source": [
    "cat_dist(train, var='Embarked', hue='Survived')"
   ]
  },
  {
   "cell_type": "code",
   "execution_count": null,
   "metadata": {
    "execution": {
     "iopub.execute_input": "2021-11-14T04:50:16.63939Z",
     "iopub.status.busy": "2021-11-14T04:50:16.639079Z",
     "iopub.status.idle": "2021-11-14T04:50:16.683152Z",
     "shell.execute_reply": "2021-11-14T04:50:16.68238Z",
     "shell.execute_reply.started": "2021-11-14T04:50:16.63935Z"
    }
   },
   "outputs": [],
   "source": [
    "pd.pivot_table(data=train, index='Embarked', values='Survived', aggfunc=['count', 'sum', 'mean']).style.background_gradient()"
   ]
  },
  {
   "cell_type": "markdown",
   "metadata": {},
   "source": [
    "We can see some facts from the above picture.\n",
    "\n",
    "1) Embarked accounts for the largest proportion in the order of S, C, and Q.  \n",
    "2) S accounts for the largest percentage, but has the lowest survival rate.  \n",
    "3) Embarked C has the highest survival rate.  \n",
    "\n",
    "=> Embarked is also a good variable because the survival rate varies significantly depending on the value."
   ]
  },
  {
   "cell_type": "markdown",
   "metadata": {},
   "source": [
    "## Name"
   ]
  },
  {
   "cell_type": "code",
   "execution_count": null,
   "metadata": {
    "execution": {
     "iopub.execute_input": "2021-11-14T04:50:16.686292Z",
     "iopub.status.busy": "2021-11-14T04:50:16.685598Z",
     "iopub.status.idle": "2021-11-14T04:50:16.700619Z",
     "shell.execute_reply": "2021-11-14T04:50:16.699931Z",
     "shell.execute_reply.started": "2021-11-14T04:50:16.686255Z"
    }
   },
   "outputs": [],
   "source": [
    "tmp_all_data = copy.deepcopy(all_data)\n",
    "t0 = pd.DataFrame(tmp_all_data.Name)\n",
    "t1 = pd.DataFrame(tmp_all_data.Name.apply(lambda x: x.split(',')[1].split('.')[0].strip()).value_counts())\n",
    "multi_table([t0, t1])"
   ]
  },
  {
   "cell_type": "markdown",
   "metadata": {},
   "source": [
    "You can extract common keywords (Mr, Miss, etc.) by name."
   ]
  },
  {
   "cell_type": "code",
   "execution_count": null,
   "metadata": {
    "execution": {
     "iopub.execute_input": "2021-11-14T04:50:16.702411Z",
     "iopub.status.busy": "2021-11-14T04:50:16.701735Z",
     "iopub.status.idle": "2021-11-14T04:50:16.708384Z",
     "shell.execute_reply": "2021-11-14T04:50:16.707873Z",
     "shell.execute_reply.started": "2021-11-14T04:50:16.702381Z"
    }
   },
   "outputs": [],
   "source": [
    "tmp_all_data['Title'] = tmp_all_data.Name.apply(lambda x: x.split(',')[1].split('.')[0].strip())\n",
    "#tmp_all_data['Title'] = tmp_all_data.Title.apply(lambda x: 'Others' if x in list(tmp_all_data.Title.value_counts()[tmp_all_data.Title.value_counts() < 8].index) else x)"
   ]
  },
  {
   "cell_type": "code",
   "execution_count": null,
   "metadata": {
    "execution": {
     "iopub.execute_input": "2021-11-14T04:50:16.710114Z",
     "iopub.status.busy": "2021-11-14T04:50:16.709572Z",
     "iopub.status.idle": "2021-11-14T04:50:18.096149Z",
     "shell.execute_reply": "2021-11-14T04:50:18.095304Z",
     "shell.execute_reply.started": "2021-11-14T04:50:16.710073Z"
    }
   },
   "outputs": [],
   "source": [
    "continuous_dist(tmp_all_data, x='Title', y='Age')"
   ]
  },
  {
   "cell_type": "markdown",
   "metadata": {},
   "source": [
    "We have determined that we can get hints about age in Title, so we have confirmed the distribution of Age in Title. There seems to be some correlation. It can be used to handle Age missing values."
   ]
  },
  {
   "cell_type": "markdown",
   "metadata": {},
   "source": [
    "## Cabin"
   ]
  },
  {
   "cell_type": "code",
   "execution_count": null,
   "metadata": {
    "execution": {
     "iopub.execute_input": "2021-11-14T04:50:18.097483Z",
     "iopub.status.busy": "2021-11-14T04:50:18.097268Z",
     "iopub.status.idle": "2021-11-14T04:50:18.105781Z",
     "shell.execute_reply": "2021-11-14T04:50:18.104871Z",
     "shell.execute_reply.started": "2021-11-14T04:50:18.097454Z"
    }
   },
   "outputs": [],
   "source": [
    "tmp_train.Cabin.value_counts()"
   ]
  },
  {
   "cell_type": "markdown",
   "metadata": {},
   "source": [
    "Cabin is rarely recorded and is subject to deletion. However, some observations may have multiple cabins based on blanks. Therefore, we can come up with a new variable called Cabin count. I can replace the missing value of the Cabin count with a certain value, but I easily processed it to 0.\n",
    "\n",
    "Also, the first letter of Cabin starts with an alphabet. This value may indicate the type of Cabin. This value can be processed by CabinClass."
   ]
  },
  {
   "cell_type": "code",
   "execution_count": null,
   "metadata": {
    "execution": {
     "iopub.execute_input": "2021-11-14T04:50:18.107721Z",
     "iopub.status.busy": "2021-11-14T04:50:18.10707Z",
     "iopub.status.idle": "2021-11-14T04:50:18.120589Z",
     "shell.execute_reply": "2021-11-14T04:50:18.11984Z",
     "shell.execute_reply.started": "2021-11-14T04:50:18.107677Z"
    }
   },
   "outputs": [],
   "source": [
    "tmp_train['CabinCnt'] = tmp_train.Cabin.apply(lambda x: 0 if pd.isna(x) else len(x.split(' ')))\n",
    "tmp_train['CabinClass'] = tmp_train.Cabin.apply(lambda x: str(x)[0])"
   ]
  },
  {
   "cell_type": "code",
   "execution_count": null,
   "metadata": {
    "execution": {
     "iopub.execute_input": "2021-11-14T04:50:18.122123Z",
     "iopub.status.busy": "2021-11-14T04:50:18.121752Z",
     "iopub.status.idle": "2021-11-14T04:50:18.137939Z",
     "shell.execute_reply": "2021-11-14T04:50:18.137283Z",
     "shell.execute_reply.started": "2021-11-14T04:50:18.122068Z"
    }
   },
   "outputs": [],
   "source": [
    "t0 = pd.DataFrame(tmp_train.CabinCnt.value_counts())\n",
    "t1 = pd.DataFrame(tmp_train.CabinClass.value_counts())\n",
    "multi_table([t0, t1])"
   ]
  },
  {
   "cell_type": "code",
   "execution_count": null,
   "metadata": {
    "execution": {
     "iopub.execute_input": "2021-11-14T04:50:18.139327Z",
     "iopub.status.busy": "2021-11-14T04:50:18.139112Z",
     "iopub.status.idle": "2021-11-14T04:50:18.556194Z",
     "shell.execute_reply": "2021-11-14T04:50:18.555377Z",
     "shell.execute_reply.started": "2021-11-14T04:50:18.139303Z"
    }
   },
   "outputs": [],
   "source": [
    "cat_dist(tmp_train, var='CabinCnt', hue='Survived', msg_show=False)"
   ]
  },
  {
   "cell_type": "code",
   "execution_count": null,
   "metadata": {
    "execution": {
     "iopub.execute_input": "2021-11-14T04:50:18.557584Z",
     "iopub.status.busy": "2021-11-14T04:50:18.557347Z",
     "iopub.status.idle": "2021-11-14T04:50:19.051316Z",
     "shell.execute_reply": "2021-11-14T04:50:19.050427Z",
     "shell.execute_reply.started": "2021-11-14T04:50:18.557551Z"
    }
   },
   "outputs": [],
   "source": [
    "cat_dist(tmp_train, var='CabinClass', hue='Survived', msg_show=False)"
   ]
  },
  {
   "cell_type": "markdown",
   "metadata": {},
   "source": [
    "After visualizing the survival rates of CabinCnt and CabinClass, we can see that these are the variables that can be used."
   ]
  },
  {
   "cell_type": "markdown",
   "metadata": {},
   "source": [
    "## Ticket"
   ]
  },
  {
   "cell_type": "code",
   "execution_count": null,
   "metadata": {
    "execution": {
     "iopub.execute_input": "2021-11-14T04:50:19.053303Z",
     "iopub.status.busy": "2021-11-14T04:50:19.052985Z",
     "iopub.status.idle": "2021-11-14T04:50:19.061235Z",
     "shell.execute_reply": "2021-11-14T04:50:19.060403Z",
     "shell.execute_reply.started": "2021-11-14T04:50:19.053261Z"
    }
   },
   "outputs": [],
   "source": [
    "tmp_train.Ticket"
   ]
  },
  {
   "cell_type": "code",
   "execution_count": null,
   "metadata": {
    "execution": {
     "iopub.execute_input": "2021-11-14T04:50:19.062742Z",
     "iopub.status.busy": "2021-11-14T04:50:19.062492Z",
     "iopub.status.idle": "2021-11-14T04:50:19.07551Z",
     "shell.execute_reply": "2021-11-14T04:50:19.074979Z",
     "shell.execute_reply.started": "2021-11-14T04:50:19.062713Z"
    }
   },
   "outputs": [],
   "source": [
    "tmp_train['IsNumericTicket'] = tmp_train.Ticket.apply(lambda x: 1 if x.isnumeric() else 0)\n",
    "tmp_train['TicketType'] = tmp_train.Ticket.apply(lambda x: ''.join(x.split(' ')[:-1]).replace('.','').replace('/','').lower() if len(x.split(' ')[:-1]) > 0 else 0)"
   ]
  },
  {
   "cell_type": "markdown",
   "metadata": {
    "execution": {
     "iopub.execute_input": "2021-11-13T10:08:44.881555Z",
     "iopub.status.busy": "2021-11-13T10:08:44.881078Z",
     "iopub.status.idle": "2021-11-13T10:08:44.88829Z",
     "shell.execute_reply": "2021-11-13T10:08:44.887514Z",
     "shell.execute_reply.started": "2021-11-13T10:08:44.881498Z"
    }
   },
   "source": [
    "Tickets also contain several common keywords. Therefore, new variables can be generated after parsing according to specific criteria."
   ]
  },
  {
   "cell_type": "code",
   "execution_count": null,
   "metadata": {
    "execution": {
     "iopub.execute_input": "2021-11-14T04:50:19.077072Z",
     "iopub.status.busy": "2021-11-14T04:50:19.076512Z",
     "iopub.status.idle": "2021-11-14T04:50:19.492067Z",
     "shell.execute_reply": "2021-11-14T04:50:19.491124Z",
     "shell.execute_reply.started": "2021-11-14T04:50:19.077039Z"
    }
   },
   "outputs": [],
   "source": [
    "cat_dist(tmp_train, var='IsNumericTicket', hue='Survived')"
   ]
  },
  {
   "cell_type": "code",
   "execution_count": null,
   "metadata": {
    "execution": {
     "iopub.execute_input": "2021-11-14T04:50:19.493465Z",
     "iopub.status.busy": "2021-11-14T04:50:19.493223Z",
     "iopub.status.idle": "2021-11-14T04:50:19.542356Z",
     "shell.execute_reply": "2021-11-14T04:50:19.541668Z",
     "shell.execute_reply.started": "2021-11-14T04:50:19.493436Z"
    }
   },
   "outputs": [],
   "source": [
    "pd.pivot_table(data=tmp_train, index='TicketType', values='Survived').T.style.background_gradient(axis=1)"
   ]
  },
  {
   "cell_type": "markdown",
   "metadata": {},
   "source": [
    "# Feature engineering"
   ]
  },
  {
   "cell_type": "markdown",
   "metadata": {},
   "source": [
    "Start Feature Engineering based on the contents organized through EDA. Some processes have been simplified (ex: Age Missing Value Processing). You can proceed with this course in many ways as you like."
   ]
  },
  {
   "cell_type": "code",
   "execution_count": null,
   "metadata": {
    "execution": {
     "iopub.execute_input": "2021-11-14T04:50:19.543823Z",
     "iopub.status.busy": "2021-11-14T04:50:19.543419Z",
     "iopub.status.idle": "2021-11-14T04:50:19.553268Z",
     "shell.execute_reply": "2021-11-14T04:50:19.552503Z",
     "shell.execute_reply.started": "2021-11-14T04:50:19.543791Z"
    }
   },
   "outputs": [],
   "source": [
    "# missing values\n",
    "all_data['Age'] = all_data.Age.fillna(train.Age.median())\n",
    "all_data['Fare'] = all_data.Fare.fillna(train.Fare.median())\n",
    "all_data.dropna(subset=['Embarked'], inplace=True)\n",
    "cabins = all_data.Cabin\n",
    "all_data.drop(['Cabin'], axis=1, inplace=True)"
   ]
  },
  {
   "cell_type": "code",
   "execution_count": null,
   "metadata": {
    "execution": {
     "iopub.execute_input": "2021-11-14T04:50:19.554604Z",
     "iopub.status.busy": "2021-11-14T04:50:19.554383Z",
     "iopub.status.idle": "2021-11-14T04:50:19.572709Z",
     "shell.execute_reply": "2021-11-14T04:50:19.571935Z",
     "shell.execute_reply.started": "2021-11-14T04:50:19.554577Z"
    }
   },
   "outputs": [],
   "source": [
    "# derivative features\n",
    "all_data['CabinCnt'] = cabins.apply(lambda x: 0 if pd.isna(x) else len(x.split(' ')))\n",
    "all_data['CabinClass'] = cabins.apply(lambda x: str(x)[0])\n",
    "all_data['IsNumericTicket'] = all_data.Ticket.apply(lambda x: 1 if x.isnumeric() else 0)\n",
    "all_data['TicketType'] = all_data.Ticket.apply(lambda x: ''.join(x.split(' ')[:-1]).replace('.','').replace('/','').lower() if len(x.split(' ')[:-1]) > 0 else 0)\n",
    "all_data['Title'] = all_data.Name.apply(lambda x: x.split(',')[1].split('.')[0].strip())\n",
    "all_data['Family'] = all_data.SibSp + all_data.Parch"
   ]
  },
  {
   "cell_type": "code",
   "execution_count": null,
   "metadata": {
    "execution": {
     "iopub.execute_input": "2021-11-14T04:50:19.574096Z",
     "iopub.status.busy": "2021-11-14T04:50:19.573851Z",
     "iopub.status.idle": "2021-11-14T04:50:19.60185Z",
     "shell.execute_reply": "2021-11-14T04:50:19.601062Z",
     "shell.execute_reply.started": "2021-11-14T04:50:19.574067Z"
    }
   },
   "outputs": [],
   "source": [
    "# feature transform\n",
    "numeric_vars = ['Age', 'SibSp', 'Parch', 'Fare', 'CabinCnt', 'Family']\n",
    "ordinal_vars = ['Pclass']\n",
    "nominal_vars = ['Name', 'Sex', 'Ticket', 'Embarked', 'CabinClass', 'IsNumericTicket', 'TicketType', 'Title']\n",
    "all_data[nominal_vars] = all_data[nominal_vars].astype('str')\n",
    "\n",
    "for feature in numeric_vars:\n",
    "    all_data[feature] = np.log1p(all_data[feature])\n",
    "\n",
    "scaler = StandardScaler()\n",
    "numeric_vars = all_data.columns[(all_data.dtypes != 'object') & (all_data.columns != 'PassengerId') & (all_data.columns != 'Survived') & (all_data.columns != 'IsTrain')]\n",
    "all_data[numeric_vars] = scaler.fit_transform(all_data[numeric_vars])"
   ]
  },
  {
   "cell_type": "code",
   "execution_count": null,
   "metadata": {
    "execution": {
     "iopub.execute_input": "2021-11-14T04:50:19.603711Z",
     "iopub.status.busy": "2021-11-14T04:50:19.603065Z",
     "iopub.status.idle": "2021-11-14T04:50:19.623611Z",
     "shell.execute_reply": "2021-11-14T04:50:19.622806Z",
     "shell.execute_reply.started": "2021-11-14T04:50:19.603671Z"
    }
   },
   "outputs": [],
   "source": [
    "# split data\n",
    "all_data.drop(['PassengerId', 'Name', 'Ticket'], axis=1, inplace=True)\n",
    "data_dummies = pd.get_dummies(all_data)\n",
    "X_train = data_dummies[data_dummies.Survived.notnull()].drop(['Survived'], axis=1)\n",
    "y_train = data_dummies[data_dummies.Survived.notnull()].Survived\n",
    "X_test = data_dummies[data_dummies.Survived.isnull()].drop(['Survived'], axis=1)"
   ]
  },
  {
   "cell_type": "code",
   "execution_count": null,
   "metadata": {
    "execution": {
     "iopub.execute_input": "2021-11-14T04:50:19.624883Z",
     "iopub.status.busy": "2021-11-14T04:50:19.624679Z",
     "iopub.status.idle": "2021-11-14T04:50:19.630292Z",
     "shell.execute_reply": "2021-11-14T04:50:19.62948Z",
     "shell.execute_reply.started": "2021-11-14T04:50:19.624859Z"
    }
   },
   "outputs": [],
   "source": [
    "X_train.shape, y_train.shape, X_test.shape"
   ]
  },
  {
   "cell_type": "code",
   "execution_count": null,
   "metadata": {
    "execution": {
     "iopub.execute_input": "2021-11-14T04:50:19.631989Z",
     "iopub.status.busy": "2021-11-14T04:50:19.631463Z",
     "iopub.status.idle": "2021-11-14T04:50:21.644125Z",
     "shell.execute_reply": "2021-11-14T04:50:21.642632Z",
     "shell.execute_reply.started": "2021-11-14T04:50:19.631945Z"
    }
   },
   "outputs": [],
   "source": [
    "selector = RandomForestClassifier().fit(X_train, y_train)\n",
    "\n",
    "imps = pd.DataFrame(selector.feature_importances_, X_train.columns, columns=['Importance'])\n",
    "imps = pd.DataFrame(imps.Importance.sort_values(ascending=False))\n",
    "\n",
    "plt.subplots(figsize=(20, 10))\n",
    "g = sns.barplot(x=imps.index, y=imps.Importance)\n",
    "g.set_xticklabels(g.get_xticklabels(),rotation = 90)\n",
    "plt.show()"
   ]
  },
  {
   "cell_type": "code",
   "execution_count": null,
   "metadata": {
    "execution": {
     "iopub.execute_input": "2021-11-14T04:50:21.646203Z",
     "iopub.status.busy": "2021-11-14T04:50:21.645354Z",
     "iopub.status.idle": "2021-11-14T04:50:25.285399Z",
     "shell.execute_reply": "2021-11-14T04:50:25.284788Z",
     "shell.execute_reply.started": "2021-11-14T04:50:21.64616Z"
    }
   },
   "outputs": [],
   "source": [
    "all_data.Title = all_data.Title.apply(lambda x: 'Others' if x in list(all_data.Title.value_counts()[all_data.Title.value_counts() < 8].index) else x)\n",
    "all_data.TicketType = all_data.TicketType.apply(lambda x: 'Others' if x in list(all_data.TicketType.value_counts()[all_data.TicketType.value_counts() < 10].index) else x)"
   ]
  },
  {
   "cell_type": "code",
   "execution_count": null,
   "metadata": {
    "execution": {
     "iopub.execute_input": "2021-11-14T04:50:25.286838Z",
     "iopub.status.busy": "2021-11-14T04:50:25.28629Z",
     "iopub.status.idle": "2021-11-14T04:50:25.303664Z",
     "shell.execute_reply": "2021-11-14T04:50:25.302825Z",
     "shell.execute_reply.started": "2021-11-14T04:50:25.286805Z"
    }
   },
   "outputs": [],
   "source": [
    "# split data2\n",
    "data_dummies = pd.get_dummies(all_data)\n",
    "X_train = data_dummies[data_dummies.Survived.notnull()].drop(['Survived'], axis=1)\n",
    "X_test = data_dummies[data_dummies.Survived.isnull()].drop(['Survived'], axis=1)"
   ]
  },
  {
   "cell_type": "code",
   "execution_count": null,
   "metadata": {
    "execution": {
     "iopub.execute_input": "2021-11-14T04:50:25.304933Z",
     "iopub.status.busy": "2021-11-14T04:50:25.304723Z",
     "iopub.status.idle": "2021-11-14T04:50:26.225853Z",
     "shell.execute_reply": "2021-11-14T04:50:26.224995Z",
     "shell.execute_reply.started": "2021-11-14T04:50:25.304889Z"
    }
   },
   "outputs": [],
   "source": [
    "selector = RandomForestClassifier().fit(X_train, y_train)\n",
    "\n",
    "imps = pd.DataFrame(selector.feature_importances_, X_train.columns, columns=['Importance'])\n",
    "imps = pd.DataFrame(imps.Importance.sort_values(ascending=False))\n",
    "\n",
    "plt.subplots(figsize=(20, 10))\n",
    "g = sns.barplot(x=imps.index, y=imps.Importance)\n",
    "g.set_xticklabels(g.get_xticklabels(),rotation = 50)\n",
    "plt.show()"
   ]
  },
  {
   "cell_type": "markdown",
   "metadata": {},
   "source": [
    "# Modeling"
   ]
  },
  {
   "cell_type": "markdown",
   "metadata": {},
   "source": [
    "Creating a good model is as important as creating a good variable. A good model refers to a model with the best generalization performance using hyperparameters optimized for a given dataset. To solve this problem, I used Logistic Regression, Knn, Support Vector Machine, Radnom Forest, XGBoost, and Voting Model. Because each model is suitable for binary classification tasks and has different algorithms and characteristics, learning the same dataset can perform differently. In addition, because each model has a different categorization point for key people, it may be better to combine them.\n",
    "\n",
    "I used Grid Search to find this model's HYPER PARAMTER. Random Forest hyperparameter tuning is too wide and difficult. It is easier to adjust by narrowing the range using Random Search first. XGBoost has many parameters and a wide range, so tuning is more difficult than other models. Therefore, tuning all hyperparameters at once takes a very long time.\n",
    "\n",
    "XGBoost has many hyperparameters, but there are parameters that have a relatively significant impact. This includes learning_rate and n_estimators. I took advantage of early_stopping to get the best learning_rate, and then tuned the hyperparameters such as max_depth, min_child_weight, gamma, subsample, etc. After tuning the core parameters, the optimal parameters are derived by final tuning the learning_rate and n_estimators again."
   ]
  },
  {
   "cell_type": "code",
   "execution_count": null,
   "metadata": {
    "execution": {
     "iopub.execute_input": "2021-11-14T04:50:26.22762Z",
     "iopub.status.busy": "2021-11-14T04:50:26.227349Z",
     "iopub.status.idle": "2021-11-14T04:50:26.231038Z",
     "shell.execute_reply": "2021-11-14T04:50:26.23048Z",
     "shell.execute_reply.started": "2021-11-14T04:50:26.22759Z"
    }
   },
   "outputs": [],
   "source": [
    "# Hyperparameter tuning takes a lot of time. If this variable is False, the tuning process will be omitted and the learning will proceed \n",
    "# with the hyperparameters already obtained. If this variable is true, you can proceed with the tuning process directly.\n",
    "allow_tuning = False"
   ]
  },
  {
   "cell_type": "code",
   "execution_count": null,
   "metadata": {
    "execution": {
     "iopub.execute_input": "2021-11-14T04:50:26.232478Z",
     "iopub.status.busy": "2021-11-14T04:50:26.232118Z",
     "iopub.status.idle": "2021-11-14T04:50:26.244217Z",
     "shell.execute_reply": "2021-11-14T04:50:26.243559Z",
     "shell.execute_reply.started": "2021-11-14T04:50:26.232449Z"
    }
   },
   "outputs": [],
   "source": [
    "# This function is a function created by myself to eliminate repeated code generated by tuning XGBoost.\n",
    "# params_grid_xgb: Combines fixed parameters for grid search in xgboost.\n",
    "# features: Target features to be tuned using this function\n",
    "# values: Search parameters for each feature\n",
    "# X,y: Datasets.\n",
    "# last: If this value is false, change each value of the GridSearchCV object's best_params to a list for immediate use in the next adjustment.\n",
    "def xgb_gridsearch(params_grid_xgb, features, values, X, y, last=False):\n",
    "    x_train, x_test = train_test_split(X, test_size=.2, random_state=42)\n",
    "    y_train_tmp, y_test_tmp = train_test_split(y, test_size=.2, random_state=42)\n",
    "\n",
    "    cv = RepeatedStratifiedKFold(n_splits = 10, n_repeats = 3, random_state = 42)\n",
    "\n",
    "    model_xgb = XGBClassifier(use_label_encoder = False, \n",
    "                              objective = 'binary:logistic')\n",
    "    \n",
    "    for i in range(len(features)):\n",
    "        params_grid_xgb[features[i]] = values[i]\n",
    "    search_xgb = GridSearchCV(model_xgb, params_grid_xgb, verbose = 0,\n",
    "                              scoring = 'neg_log_loss', cv = cv).fit(x_train, y_train_tmp, early_stopping_rounds = 15, \n",
    "                                  eval_set = [[x_test, y_test_tmp]], \n",
    "                                  eval_metric = 'logloss', verbose = False)\n",
    "    for i in range(len(features)):\n",
    "        print(f\"{features[i]}: {search_xgb.best_params_[features[i]]}\")\n",
    "    if not last:\n",
    "        for k, v in search_xgb.best_params_.items():\n",
    "            search_xgb.best_params_[k] = [v]\n",
    "    return search_xgb, search_xgb.best_params_"
   ]
  },
  {
   "cell_type": "markdown",
   "metadata": {},
   "source": [
    "## KNN"
   ]
  },
  {
   "cell_type": "code",
   "execution_count": null,
   "metadata": {
    "execution": {
     "iopub.execute_input": "2021-11-14T04:50:26.24676Z",
     "iopub.status.busy": "2021-11-14T04:50:26.246323Z",
     "iopub.status.idle": "2021-11-14T04:50:32.347186Z",
     "shell.execute_reply": "2021-11-14T04:50:32.346506Z",
     "shell.execute_reply.started": "2021-11-14T04:50:26.246726Z"
    }
   },
   "outputs": [],
   "source": [
    "if allow_tuning:\n",
    "    params_knn = {\n",
    "        'n_neighbors' : range(1, 10),\n",
    "        'weights' : ['uniform', 'distance'],\n",
    "        'algorithm' : ['auto', 'ball_tree','kd_tree'],\n",
    "        'p' : [1,2]\n",
    "    }\n",
    "    model_knn = knn()\n",
    "    search_knn = GridSearchCV(model_knn, params_knn, cv=5, scoring='accuracy', n_jobs=-1, verbose=1).fit(X_train, y_train)\n",
    "    print(search_knn.best_params_)"
   ]
  },
  {
   "cell_type": "markdown",
   "metadata": {},
   "source": [
    "## Logistic Regression"
   ]
  },
  {
   "cell_type": "code",
   "execution_count": null,
   "metadata": {
    "execution": {
     "iopub.execute_input": "2021-11-14T04:50:32.348941Z",
     "iopub.status.busy": "2021-11-14T04:50:32.348366Z",
     "iopub.status.idle": "2021-11-14T04:50:34.684115Z",
     "shell.execute_reply": "2021-11-14T04:50:34.683296Z",
     "shell.execute_reply.started": "2021-11-14T04:50:32.348909Z"
    }
   },
   "outputs": [],
   "source": [
    "if allow_tuning:\n",
    "    params_logistic = {\n",
    "        'max_iter': [2000],\n",
    "        'penalty': ['l1', 'l2'],\n",
    "        'C': np.logspace(-4, 4, 20),\n",
    "        'solver': ['liblinear']\n",
    "    }\n",
    "    model_logistic = LogisticRegression()\n",
    "    search_logistic = GridSearchCV(model_logistic, params_logistic, cv=5, scoring='accuracy', n_jobs=-1, verbose=1).fit(X_train, y_train)\n",
    "    print(search_logistic.best_params_)"
   ]
  },
  {
   "cell_type": "markdown",
   "metadata": {},
   "source": [
    "## SVC"
   ]
  },
  {
   "cell_type": "code",
   "execution_count": null,
   "metadata": {
    "execution": {
     "iopub.execute_input": "2021-11-14T04:50:34.68634Z",
     "iopub.status.busy": "2021-11-14T04:50:34.685792Z",
     "iopub.status.idle": "2021-11-14T04:51:07.404732Z",
     "shell.execute_reply": "2021-11-14T04:51:07.403776Z",
     "shell.execute_reply.started": "2021-11-14T04:50:34.686286Z"
    }
   },
   "outputs": [],
   "source": [
    "if allow_tuning:\n",
    "    params_svc = [{'kernel': ['rbf'], 'gamma': [.01, .1, .5, 1, 2, 5, 10], 'C': [.1, 1, 10, 100, 1000], 'probability': [True]},\n",
    "                  {'kernel': ['poly'], 'degree' : [2, 3, 4, 5], 'C': [.01, .1, 1, 10, 100, 1000], 'probability': [True]}]\n",
    "    model_svc = SVC()\n",
    "    search_svc = GridSearchCV(model_svc, params_svc, cv=5, scoring='accuracy', n_jobs=-1, verbose=1).fit(X_train, y_train)\n",
    "    print(search_svc.best_params_)"
   ]
  },
  {
   "cell_type": "code",
   "execution_count": null,
   "metadata": {
    "execution": {
     "iopub.execute_input": "2021-11-14T04:51:07.407423Z",
     "iopub.status.busy": "2021-11-14T04:51:07.406843Z",
     "iopub.status.idle": "2021-11-14T04:51:25.995507Z",
     "shell.execute_reply": "2021-11-14T04:51:25.994874Z",
     "shell.execute_reply.started": "2021-11-14T04:51:07.407378Z"
    }
   },
   "outputs": [],
   "source": [
    "if allow_tuning:\n",
    "    params_svc = {'kernel': ['rbf'], 'gamma': [i/10000 for i in range(90, 110)], 'C': range(50, 80, 10), 'probability': [True]}\n",
    "    model_svc = SVC()\n",
    "    search_svc = GridSearchCV(model_svc, params_svc, cv=5, scoring='accuracy', n_jobs=-1, verbose=1).fit(X_train, y_train)\n",
    "    print(search_svc.best_params_)"
   ]
  },
  {
   "cell_type": "markdown",
   "metadata": {},
   "source": [
    "## Random Forest"
   ]
  },
  {
   "cell_type": "markdown",
   "metadata": {},
   "source": [
    "First, use Random Search to narrow the search range, and then proceed with Grid Search. Random search results vary from time to time. Increasing n_iter results in more consistent results."
   ]
  },
  {
   "cell_type": "code",
   "execution_count": null,
   "metadata": {
    "execution": {
     "iopub.execute_input": "2021-11-14T04:51:25.996985Z",
     "iopub.status.busy": "2021-11-14T04:51:25.996663Z",
     "iopub.status.idle": "2021-11-14T04:51:26.000497Z",
     "shell.execute_reply": "2021-11-14T04:51:25.999702Z",
     "shell.execute_reply.started": "2021-11-14T04:51:25.996956Z"
    }
   },
   "outputs": [],
   "source": [
    "# if allow_tuning:\n",
    "#     params_rf = {\n",
    "#         'n_estimators': range(100, 2000, 200),\n",
    "#         'criterion':['gini','entropy'],\n",
    "#         'bootstrap': [True, False],\n",
    "#         'max_depth': list(range(5, 100, 5)) + [None],\n",
    "#         'max_features': ['auto','sqrt', 5, 10],\n",
    "#         'min_samples_leaf': range(2, 11, 2),\n",
    "#         'min_samples_split': range(2, 11, 2)}\n",
    "#     model_rf = RandomForestClassifier()\n",
    "#     search_rf = RandomizedSearchCV(model_rf, params_rf, cv=5,\n",
    "#                                    scoring='accuracy', n_jobs=-1, verbose=1,\n",
    "#                                    n_iter=100).fit(X_train, y_train)\n",
    "#     print(search_rf.best_params_)"
   ]
  },
  {
   "cell_type": "code",
   "execution_count": null,
   "metadata": {
    "execution": {
     "iopub.execute_input": "2021-11-14T04:51:26.00207Z",
     "iopub.status.busy": "2021-11-14T04:51:26.001859Z",
     "iopub.status.idle": "2021-11-14T04:54:57.421515Z",
     "shell.execute_reply": "2021-11-14T04:54:57.420789Z",
     "shell.execute_reply.started": "2021-11-14T04:51:26.002044Z"
    },
    "scrolled": true
   },
   "outputs": [],
   "source": [
    "if allow_tuning:\n",
    "    params_rf = {\n",
    "        'n_estimators': [95, 100, 105],\n",
    "        'criterion':['entropy'],\n",
    "        'bootstrap': [True, False],\n",
    "        'max_depth': [40, 45, 50],\n",
    "        'max_features': [4, 5, 6],\n",
    "        'min_samples_leaf': [1, 2, 3],\n",
    "        'min_samples_split': [9, 10, 11],\n",
    "        'random_state': [734]}\n",
    "    model_rf = RandomForestClassifier()\n",
    "    search_rf = GridSearchCV(model_rf, params_rf, cv=5, scoring='accuracy', n_jobs=-1, verbose=1).fit(X_train, y_train)\n",
    "    search_rf.best_params_['random_state']=242\n",
    "    search_rf.best_estimator_.random_state=242\n",
    "    print(search_rf.best_params_)"
   ]
  },
  {
   "cell_type": "markdown",
   "metadata": {},
   "source": [
    "## XGBoost"
   ]
  },
  {
   "cell_type": "code",
   "execution_count": null,
   "metadata": {
    "execution": {
     "iopub.execute_input": "2021-11-14T04:54:57.423527Z",
     "iopub.status.busy": "2021-11-14T04:54:57.423156Z",
     "iopub.status.idle": "2021-11-14T05:14:38.929228Z",
     "shell.execute_reply": "2021-11-14T05:14:38.928613Z",
     "shell.execute_reply.started": "2021-11-14T04:54:57.423466Z"
    }
   },
   "outputs": [],
   "source": [
    "if allow_tuning:\n",
    "    # Initial params.\n",
    "    params_xgb = {'n_estimators': [1000],\n",
    "                  'learning_rate': [0.1],\n",
    "                  'max_depth': [5],\n",
    "                  'min_child_weight': [1],\n",
    "                  'gamma': [0],\n",
    "                  'subsample': [0.8],\n",
    "                  'colsample_bytree': [0.8],\n",
    "                  'n_jobs': [-1],\n",
    "                  'objective': ['binary:logistic'],\n",
    "                  'use_label_encoder': [False],\n",
    "                  'eval_metric': ['logloss'],\n",
    "                  'scale_pos_weight': [1]}\n",
    "    \n",
    "    # learning rate tuning.\n",
    "    search_xgb, params_xgb = xgb_gridsearch(params_xgb, \n",
    "                                            ['learning_rate'], \n",
    "                                            [[0.01, 0.02, 0.03, 0.04, 0.05, 0.06, 0.07, 0.08, 0.09, 0.1, 0.15, 0.2]],\n",
    "                                            X_train, y_train)\n",
    "    # max_depth, min_child_weight tuning.\n",
    "    search_xgb, params_xgb = xgb_gridsearch(params_xgb,\n",
    "                                            ['max_depth', 'min_child_weight'],\n",
    "                                            [range(3, 10), range(1, 6)],\n",
    "                                            X_train, y_train)\n",
    "    \n",
    "    # gamma tuning.\n",
    "    search_xgb, params_xgb = xgb_gridsearch(params_xgb,\n",
    "                                            ['gamma'],\n",
    "                                            [[0, 0.1, 0.2, 0.3, 0.4, 0.5, 0.6, 0.7, 0.8, 0.9, 1, 2]],\n",
    "                                            X_train, y_train)\n",
    "    search_xgb, params_xgb = xgb_gridsearch(params_xgb,\n",
    "                                            ['subsample', 'colsample_bytree'],\n",
    "                                            [[i/100.0 for i in range(75,90,5)], [i/100.0 for i in range(75,90,5)]],\n",
    "                                            X_train, y_train)\n",
    "    \n",
    "    # reg_alpha tuning.\n",
    "    search_xgb, params_xgb = xgb_gridsearch(params_xgb,\n",
    "                                            ['reg_alpha'], \n",
    "                                            [[1e-5, 1e-2, 0.1, 1, 100]], \n",
    "                                            X_train, y_train)\n",
    "    \n",
    "    # learning rate re tuning.\n",
    "    params_xgb['n_estimators'] = [5000]\n",
    "    search_xgb, params_xgb = xgb_gridsearch(params_xgb,\n",
    "                                            ['learning_rate'],\n",
    "                                            [[0.001, 0.005, 0.01, 0.02, 0.03, 0.04, 0.05, 0.06, 0.07, 0.08, 0.09, 0.1, 0.15, 0.2]],\n",
    "                                            X_train, y_train, last=True)\n",
    "\n",
    "    x_train, x_test = train_test_split(X_train, test_size=.2, random_state=42)\n",
    "    y_train_tmp, y_test_tmp = train_test_split(y_train, test_size=.2, random_state=42)\n",
    "    model_xgb = XGBClassifier(**params_xgb)\n",
    "    \n",
    "    # n_estimators tuning.\n",
    "    model_xgb = model_xgb.fit(x_train, y_train_tmp, eval_set=[(x_test, y_test_tmp)], eval_metric=['logloss'], early_stopping_rounds=15, verbose=0)\n",
    "    search_xgb.best_estimator_.n_estimators = model_xgb.best_iteration"
   ]
  },
  {
   "cell_type": "markdown",
   "metadata": {},
   "source": [
    "Create each model based on hyperparameter tuning results. If allow_tuning is False, create a model based on the results tuned in advance."
   ]
  },
  {
   "cell_type": "code",
   "execution_count": null,
   "metadata": {
    "execution": {
     "iopub.execute_input": "2021-11-14T05:14:38.931189Z",
     "iopub.status.busy": "2021-11-14T05:14:38.930722Z",
     "iopub.status.idle": "2021-11-14T05:14:38.943203Z",
     "shell.execute_reply": "2021-11-14T05:14:38.942499Z",
     "shell.execute_reply.started": "2021-11-14T05:14:38.931156Z"
    }
   },
   "outputs": [],
   "source": [
    "if allow_tuning:\n",
    "    model_knn = search_knn.best_estimator_\n",
    "    model_logistic = search_logistic.best_estimator_\n",
    "    model_svc = search_svc.best_estimator_\n",
    "    model_rf = search_rf.best_estimator_\n",
    "    model_xgb = search_xgb.best_estimator_\n",
    "else:\n",
    "    model_knn = knn(algorithm='auto', \n",
    "                    n_neighbors=9,\n",
    "                    p=1, \n",
    "                    weights='uniform')\n",
    "    \n",
    "    model_logistic = LogisticRegression(C=0.08858667904100823,\n",
    "                                        max_iter=2000, \n",
    "                                        penalty='l2', \n",
    "                                        solver='liblinear')\n",
    "    model_svc = SVC(C=70,\n",
    "                    gamma=0.0106,\n",
    "                    kernel='rbf',\n",
    "                    probability=True)\n",
    "    \n",
    "    model_rf = RandomForestClassifier(bootstrap=True,\n",
    "                                      criterion='entropy',\n",
    "                                      max_depth=50, max_features=6, \n",
    "                                      min_samples_leaf=1, \n",
    "                                      min_samples_split=10, \n",
    "                                      n_estimators=100,\n",
    "                                      random_state=734)\n",
    "    \n",
    "    model_xgb = XGBClassifier(base_score=0.5, booster='gbtree', colsample_bylevel=1,\n",
    "                              colsample_bynode=1, colsample_bytree=0.8,\n",
    "                              enable_categorical=False, eval_metric='logloss', gamma=0.8,gpu_id=-1, importance_type=None, interaction_constraints='',\n",
    "                              learning_rate=0.15, max_delta_step=0, max_depth=5,\n",
    "                              min_child_weight=1, missing=np.nan, monotone_constraints='()',\n",
    "                              n_estimators=15, n_jobs=-1, num_parallel_tree=1, predictor='auto',\n",
    "                              random_state=0, reg_alpha=1e-05, reg_lambda=1, scale_pos_weight=1,\n",
    "                              subsample=0.8, tree_method='exact', use_label_encoder=False,\n",
    "                              validate_parameters=1, verbosity=0)\n",
    "\n",
    "models = {\n",
    "    'knn': model_knn,\n",
    "    'logistic': model_logistic,\n",
    "    'svc': model_svc,\n",
    "    'rf': model_rf,\n",
    "    'xgb': model_xgb\n",
    "}"
   ]
  },
  {
   "cell_type": "markdown",
   "metadata": {},
   "source": [
    "## Voting model\n",
    "\n",
    "I also tested the voting model suitable for the classification problem. I created a recursive function that allows users to combine as many as they want in a total of five models."
   ]
  },
  {
   "cell_type": "code",
   "execution_count": null,
   "metadata": {
    "execution": {
     "iopub.execute_input": "2021-11-14T05:14:38.94449Z",
     "iopub.status.busy": "2021-11-14T05:14:38.944282Z",
     "iopub.status.idle": "2021-11-14T05:14:38.960509Z",
     "shell.execute_reply": "2021-11-14T05:14:38.959745Z",
     "shell.execute_reply.started": "2021-11-14T05:14:38.944462Z"
    }
   },
   "outputs": [],
   "source": [
    "import copy\n",
    "\n",
    "# goal: The number of models to combine.\n",
    "# estimaors: empty list.\n",
    "# voting: voting method.\n",
    "def select_models(start, cnt, goal, estimators, voting):\n",
    "    if cnt == goal:\n",
    "        estimators_copy = copy.deepcopy(estimators)\n",
    "        voting_name = f'{voting}_' + '_'.join([i[0] for i in list(estimators_copy)])\n",
    "        models[voting_name] = VotingClassifier(estimators=estimators_copy, voting=voting)\n",
    "        return\n",
    "    for i in range(start, 5):\n",
    "        estimators.append(list(models.items())[i])\n",
    "        select_models(i + 1, cnt + 1, goal, estimators, voting)\n",
    "        estimators.pop()"
   ]
  },
  {
   "cell_type": "code",
   "execution_count": null,
   "metadata": {
    "execution": {
     "iopub.execute_input": "2021-11-14T05:14:38.962577Z",
     "iopub.status.busy": "2021-11-14T05:14:38.962097Z",
     "iopub.status.idle": "2021-11-14T05:14:39.604757Z",
     "shell.execute_reply": "2021-11-14T05:14:39.604065Z",
     "shell.execute_reply.started": "2021-11-14T05:14:38.962534Z"
    }
   },
   "outputs": [],
   "source": [
    "# create voting models\n",
    "select_models(0, 0, 2, [], 'hard')\n",
    "select_models(0, 0, 3, [], 'hard')\n",
    "select_models(0, 0, 4, [], 'hard')\n",
    "select_models(0, 0, 5, [], 'hard')\n",
    "\n",
    "select_models(0, 0, 2, [], 'soft')\n",
    "select_models(0, 0, 3, [], 'soft')\n",
    "select_models(0, 0, 4, [], 'soft')\n",
    "select_models(0, 0, 5, [], 'soft')"
   ]
  },
  {
   "cell_type": "code",
   "execution_count": null,
   "metadata": {
    "execution": {
     "iopub.execute_input": "2021-11-14T05:14:39.607816Z",
     "iopub.status.busy": "2021-11-14T05:14:39.606329Z",
     "iopub.status.idle": "2021-11-14T05:14:39.614425Z",
     "shell.execute_reply": "2021-11-14T05:14:39.613609Z",
     "shell.execute_reply.started": "2021-11-14T05:14:39.607768Z"
    }
   },
   "outputs": [],
   "source": [
    "# Dictionary for storing results for each model.\n",
    "result_by_model = pd.DataFrame({'model name': models.keys(), 'model': models.values(), 'score': 0})"
   ]
  },
  {
   "cell_type": "code",
   "execution_count": null,
   "metadata": {
    "execution": {
     "iopub.execute_input": "2021-11-14T05:14:39.61567Z",
     "iopub.status.busy": "2021-11-14T05:14:39.615463Z",
     "iopub.status.idle": "2021-11-14T05:16:02.032995Z",
     "shell.execute_reply": "2021-11-14T05:16:02.032246Z",
     "shell.execute_reply.started": "2021-11-14T05:14:39.615631Z"
    },
    "scrolled": true
   },
   "outputs": [],
   "source": [
    "# Cross-validation progresses for all models.\n",
    "for name, model in models.items():\n",
    "    result_by_model.loc[result_by_model['model name'] == name, 'score'] = cross_val_score(model, X_train,y_train,cv=5).mean()"
   ]
  },
  {
   "cell_type": "code",
   "execution_count": null,
   "metadata": {
    "execution": {
     "iopub.execute_input": "2021-11-14T05:16:02.034657Z",
     "iopub.status.busy": "2021-11-14T05:16:02.034186Z",
     "iopub.status.idle": "2021-11-14T05:16:04.333117Z",
     "shell.execute_reply": "2021-11-14T05:16:04.332534Z",
     "shell.execute_reply.started": "2021-11-14T05:16:02.034608Z"
    }
   },
   "outputs": [],
   "source": [
    "# Cross validation scores of all models.\n",
    "result_by_model.sort_values('score', ascending=False).reset_index(drop=True)"
   ]
  },
  {
   "cell_type": "markdown",
   "metadata": {},
   "source": [
    "I tested all of the above models and found that Random Forest had the highest test score, unlike the cross validation results."
   ]
  },
  {
   "cell_type": "code",
   "execution_count": null,
   "metadata": {
    "execution": {
     "iopub.execute_input": "2021-11-14T05:41:14.615799Z",
     "iopub.status.busy": "2021-11-14T05:41:14.615217Z",
     "iopub.status.idle": "2021-11-14T05:41:14.894601Z",
     "shell.execute_reply": "2021-11-14T05:41:14.893831Z",
     "shell.execute_reply.started": "2021-11-14T05:41:14.615767Z"
    }
   },
   "outputs": [],
   "source": [
    "model_name = 'rf'\n",
    "models[model_name].fit(X_train, y_train)\n",
    "y_pred = models[model_name].predict(X_test).astype('int')\n",
    "\n",
    "submission = pd.DataFrame({'PassengerId': test.PassengerId, \n",
    "                              'Survived': y_pred})\n",
    "\n",
    "submission.to_csv('submission.csv', index = False)"
   ]
  }
 ],
 "metadata": {
  "hide_input": false,
  "kernelspec": {
   "display_name": "Python 3",
   "language": "python",
   "name": "python3"
  },
  "language_info": {
   "codemirror_mode": {
    "name": "ipython",
    "version": 3
   },
   "file_extension": ".py",
   "mimetype": "text/x-python",
   "name": "python",
   "nbconvert_exporter": "python",
   "pygments_lexer": "ipython3",
   "version": "3.8.8"
  }
 },
 "nbformat": 4,
 "nbformat_minor": 4
}
