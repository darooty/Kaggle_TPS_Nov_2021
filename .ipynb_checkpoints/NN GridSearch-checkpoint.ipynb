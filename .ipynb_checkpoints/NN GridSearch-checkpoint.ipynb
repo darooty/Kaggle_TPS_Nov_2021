{
 "cells": [
  {
   "cell_type": "code",
   "execution_count": 1,
   "id": "bebe8eee",
   "metadata": {},
   "outputs": [],
   "source": [
    "import numpy as np\n",
    "import pandas as pd\n",
    "from tensorflow.keras.wrappers.scikit_learn import KerasClassifier\n",
    "from sklearn.model_selection import GridSearchCV\n",
    "from sklearn.preprocessing import StandardScaler, MinMaxScaler\n",
    "from sklearn.pipeline import make_pipeline\n",
    "from sklearn.compose import make_column_transformer\n",
    "from tensorflow import keras\n",
    "from tensorflow.keras import layers\n",
    "from tensorflow.keras import callbacks\n",
    "import tensorflow as tf\n",
    "import random\n",
    "import os\n",
    "from sklearn.metrics import roc_auc_score, log_loss\n",
    "from sklearn.model_selection import KFold, StratifiedKFold\n",
    "from sklearn.preprocessing import StandardScaler, RobustScaler, PowerTransformer\n",
    "from sklearn.model_selection import train_test_split"
   ]
  },
  {
   "cell_type": "code",
   "execution_count": 2,
   "id": "a6af9f87",
   "metadata": {},
   "outputs": [],
   "source": [
    "train = pd.read_csv('train.csv')\n",
    "test = pd.read_csv('test.csv')"
   ]
  },
  {
   "cell_type": "code",
   "execution_count": 3,
   "id": "f4f1c8ed",
   "metadata": {},
   "outputs": [],
   "source": [
    "test_id = test.id\n",
    "train.drop(['id'], axis=1, inplace=True)\n",
    "test.drop(['id'] ,axis=1, inplace=True)"
   ]
  },
  {
   "cell_type": "markdown",
   "id": "b0612131",
   "metadata": {},
   "source": [
    "feature engineering"
   ]
  },
  {
   "cell_type": "code",
   "execution_count": 4,
   "id": "872502f3",
   "metadata": {},
   "outputs": [],
   "source": [
    "h_skew = train.loc[:, train.skew() >= 2].columns # with skewed\n",
    "l_skew = train.loc[:, train.skew() < 2].columns # Bimodal\n",
    "l_skew = list(set(l_skew) - set(['target']))\n",
    "\n",
    "# high skewd columns:\n",
    "# add mean, median, skew, min, max, var, std\n",
    "train['median_h'] = train[h_skew].median(axis=1)\n",
    "test['median_h'] = test[h_skew].median(axis=1)\n",
    "train['var_h'] = train[h_skew].var(axis=1)\n",
    "test['var_h'] = test[h_skew].var(axis=1)\n",
    "\n",
    "# bimodal columns:\n",
    "\n",
    "train['mean_l'] = train[l_skew].mean(axis=1)\n",
    "test['mean_l'] = test[l_skew].mean(axis=1)\n",
    "train['std_l'] = train[l_skew].std(axis=1)\n",
    "test['std_l'] = test[l_skew].std(axis=1)\n",
    "train['median_l'] = train[l_skew].median(axis=1)\n",
    "test['median_l'] = test[l_skew].median(axis=1)\n",
    "train['skew_l'] = train[l_skew].skew(axis=1)\n",
    "test['skew_l'] = test[l_skew].skew(axis=1)\n",
    "train['max_l'] = train[l_skew].max(axis=1)\n",
    "test['max_l'] = test[l_skew].max(axis=1)\n",
    "train['var_l'] = train[l_skew].var(axis=1)\n",
    "test['var_l'] = test[l_skew].var(axis=1)"
   ]
  },
  {
   "cell_type": "code",
   "execution_count": 5,
   "id": "761643f3",
   "metadata": {},
   "outputs": [],
   "source": [
    "train, valid = train_test_split(train, test_size=0.2)\n",
    "X_train = train.drop(['target'], axis=1)\n",
    "y_train = train.target\n",
    "X_valid = valid.drop(['target'], axis=1)\n",
    "y_valid = valid.target\n",
    "X_test = test"
   ]
  },
  {
   "cell_type": "markdown",
   "id": "715f1a3e",
   "metadata": {},
   "source": [
    "model"
   ]
  },
  {
   "cell_type": "code",
   "execution_count": 6,
   "id": "adb9c3c2",
   "metadata": {},
   "outputs": [],
   "source": [
    "# seed\n",
    "seed = 42\n",
    "def seedAll(seed):\n",
    "    np.random.seed(seed) # set numpy seed\n",
    "    tf.random.set_seed(seed) # set tensorflow seed\n",
    "    random.seed(seed) # set random seed\n",
    "    os.environ['PYTHONHASHSEED'] = str(seed)\n",
    "seedAll(seed)"
   ]
  },
  {
   "cell_type": "code",
   "execution_count": 57,
   "id": "96e02b02",
   "metadata": {},
   "outputs": [],
   "source": [
    "early_stopping = callbacks.EarlyStopping(\n",
    "    monitor='val_loss',\n",
    "    mode='min',\n",
    "    patience=20,\n",
    "    min_delta=0,\n",
    "    baseline=None,\n",
    "    restore_best_weights=True,\n",
    "    verbose=1\n",
    ")\n",
    "plateau = callbacks.ReduceLROnPlateau(\n",
    "    monitor='val_loss',\n",
    "    mode='min',\n",
    "    patience=7,\n",
    "    factor=.2,\n",
    "    verbose=1        \n",
    ")\n",
    "\n",
    "def create_model(each_layers, activation):   \n",
    "    model = keras.Sequential()\n",
    "    for layer in range(len(each_layers)):\n",
    "        if layer == 0:\n",
    "            model.add(layers.Dense(each_layers[layer], activation=activation, input_shape=[X_train.shape[1]]))\n",
    "        else:\n",
    "            model.add(layers.Dense(each_layers[layer], activation=activation))\n",
    "    model.add(keras.layers.Dense(1, activation='sigmoid'))\n",
    "    model.compile(\n",
    "        optimizer=keras.optimizers.Adam(learning_rate=0.0007),\n",
    "        loss='binary_crossentropy',\n",
    "        metrics=['accuracy']\n",
    "    )\n",
    "    return model"
   ]
  },
  {
   "cell_type": "code",
   "execution_count": 58,
   "id": "0e1e0f22",
   "metadata": {},
   "outputs": [
    {
     "name": "stderr",
     "output_type": "stream",
     "text": [
      "<ipython-input-58-1ba7203fdc6e>:1: DeprecationWarning: KerasClassifier is deprecated, use Sci-Keras (https://github.com/adriangb/scikeras) instead.\n",
      "  model_nn = KerasClassifier(build_fn=create_model)\n"
     ]
    }
   ],
   "source": [
    "model_nn = KerasClassifier(build_fn=create_model)"
   ]
  },
  {
   "cell_type": "code",
   "execution_count": 14,
   "id": "37791ca6",
   "metadata": {},
   "outputs": [],
   "source": [
    "from sklearn.metrics import make_scorer, roc_auc_score\n",
    "scoring = {'auc': make_scorer(roc_auc_score, needs_proba=True, multi_class=\"ovr\")}"
   ]
  },
  {
   "cell_type": "code",
   "execution_count": 43,
   "id": "d71d021d",
   "metadata": {
    "scrolled": true
   },
   "outputs": [
    {
     "name": "stdout",
     "output_type": "stream",
     "text": [
      "Fitting 5 folds for each of 3 candidates, totalling 15 fits\n",
      "Epoch 1/10\n",
      "Epoch 2/10\n",
      "Epoch 3/10\n",
      "Epoch 4/10\n",
      "Epoch 5/10\n",
      "Epoch 6/10\n",
      "Epoch 7/10\n",
      "Epoch 8/10\n",
      "Epoch 9/10\n",
      "Epoch 10/10\n"
     ]
    }
   ],
   "source": [
    "params_fit_nn = {\n",
    "    'epochs': [700],\n",
    "    'batch_size': [2048],\n",
    "    'verbose': [0],\n",
    "    'each_layers': [[108, 64, 32], [128, 64, 32]],\n",
    "    'activation': ['swish'],\n",
    "    'validation_data': [(X_valid, y_valid)]\n",
    "}\n",
    "\n",
    "search_nn = GridSearchCV(model_nn,\n",
    "                         params_fit_nn,\n",
    "                         cv=KFold(n_splits=5, shuffle=True, random_state=42),\n",
    "                         n_jobs=-1,\n",
    "                         verbose=0\n",
    "                        ).fit(X_train, y_train)"
   ]
  },
  {
   "cell_type": "code",
   "execution_count": 72,
   "id": "5226c8dc",
   "metadata": {},
   "outputs": [
    {
     "data": {
      "text/html": [
       "<div>\n",
       "<style scoped>\n",
       "    .dataframe tbody tr th:only-of-type {\n",
       "        vertical-align: middle;\n",
       "    }\n",
       "\n",
       "    .dataframe tbody tr th {\n",
       "        vertical-align: top;\n",
       "    }\n",
       "\n",
       "    .dataframe thead th {\n",
       "        text-align: right;\n",
       "    }\n",
       "</style>\n",
       "<table border=\"1\" class=\"dataframe\">\n",
       "  <thead>\n",
       "    <tr style=\"text-align: right;\">\n",
       "      <th></th>\n",
       "      <th>mean_fit_time</th>\n",
       "      <th>std_fit_time</th>\n",
       "      <th>mean_score_time</th>\n",
       "      <th>std_score_time</th>\n",
       "      <th>param_activation</th>\n",
       "      <th>param_batch_size</th>\n",
       "      <th>param_each_layers</th>\n",
       "      <th>param_epochs</th>\n",
       "      <th>param_validation_data</th>\n",
       "      <th>param_verbose</th>\n",
       "      <th>params</th>\n",
       "      <th>split0_test_score</th>\n",
       "      <th>split1_test_score</th>\n",
       "      <th>split2_test_score</th>\n",
       "      <th>split3_test_score</th>\n",
       "      <th>split4_test_score</th>\n",
       "      <th>mean_test_score</th>\n",
       "      <th>std_test_score</th>\n",
       "      <th>rank_test_score</th>\n",
       "    </tr>\n",
       "  </thead>\n",
       "  <tbody>\n",
       "    <tr>\n",
       "      <th>0</th>\n",
       "      <td>19.388520</td>\n",
       "      <td>0.302755</td>\n",
       "      <td>1.870198</td>\n",
       "      <td>0.236647</td>\n",
       "      <td>swish</td>\n",
       "      <td>2048</td>\n",
       "      <td>[4, 2]</td>\n",
       "      <td>10</td>\n",
       "      <td>([f0, f1, f2, f3, f4, f5, f6, f7, f8, f9, f10,...</td>\n",
       "      <td>10</td>\n",
       "      <td>{'activation': 'swish', 'batch_size': 2048, 'e...</td>\n",
       "      <td>0.576042</td>\n",
       "      <td>0.701729</td>\n",
       "      <td>0.664448</td>\n",
       "      <td>0.504865</td>\n",
       "      <td>0.613740</td>\n",
       "      <td>0.612165</td>\n",
       "      <td>0.068667</td>\n",
       "      <td>3</td>\n",
       "    </tr>\n",
       "    <tr>\n",
       "      <th>1</th>\n",
       "      <td>20.387663</td>\n",
       "      <td>0.519953</td>\n",
       "      <td>2.277798</td>\n",
       "      <td>1.620004</td>\n",
       "      <td>swish</td>\n",
       "      <td>2048</td>\n",
       "      <td>[16, 8]</td>\n",
       "      <td>10</td>\n",
       "      <td>([f0, f1, f2, f3, f4, f5, f6, f7, f8, f9, f10,...</td>\n",
       "      <td>10</td>\n",
       "      <td>{'activation': 'swish', 'batch_size': 2048, 'e...</td>\n",
       "      <td>0.658625</td>\n",
       "      <td>0.628844</td>\n",
       "      <td>0.657906</td>\n",
       "      <td>0.634562</td>\n",
       "      <td>0.664958</td>\n",
       "      <td>0.648979</td>\n",
       "      <td>0.014432</td>\n",
       "      <td>2</td>\n",
       "    </tr>\n",
       "    <tr>\n",
       "      <th>2</th>\n",
       "      <td>23.563177</td>\n",
       "      <td>1.517136</td>\n",
       "      <td>1.873600</td>\n",
       "      <td>1.518453</td>\n",
       "      <td>swish</td>\n",
       "      <td>2048</td>\n",
       "      <td>[32, 16]</td>\n",
       "      <td>10</td>\n",
       "      <td>([f0, f1, f2, f3, f4, f5, f6, f7, f8, f9, f10,...</td>\n",
       "      <td>10</td>\n",
       "      <td>{'activation': 'swish', 'batch_size': 2048, 'e...</td>\n",
       "      <td>0.647458</td>\n",
       "      <td>0.673125</td>\n",
       "      <td>0.666031</td>\n",
       "      <td>0.661625</td>\n",
       "      <td>0.625573</td>\n",
       "      <td>0.654763</td>\n",
       "      <td>0.016832</td>\n",
       "      <td>1</td>\n",
       "    </tr>\n",
       "  </tbody>\n",
       "</table>\n",
       "</div>"
      ],
      "text/plain": [
       "   mean_fit_time  std_fit_time  mean_score_time  std_score_time  \\\n",
       "0      19.388520      0.302755         1.870198        0.236647   \n",
       "1      20.387663      0.519953         2.277798        1.620004   \n",
       "2      23.563177      1.517136         1.873600        1.518453   \n",
       "\n",
       "  param_activation param_batch_size param_each_layers param_epochs  \\\n",
       "0            swish             2048            [4, 2]           10   \n",
       "1            swish             2048           [16, 8]           10   \n",
       "2            swish             2048          [32, 16]           10   \n",
       "\n",
       "                               param_validation_data param_verbose  \\\n",
       "0  ([f0, f1, f2, f3, f4, f5, f6, f7, f8, f9, f10,...            10   \n",
       "1  ([f0, f1, f2, f3, f4, f5, f6, f7, f8, f9, f10,...            10   \n",
       "2  ([f0, f1, f2, f3, f4, f5, f6, f7, f8, f9, f10,...            10   \n",
       "\n",
       "                                              params  split0_test_score  \\\n",
       "0  {'activation': 'swish', 'batch_size': 2048, 'e...           0.576042   \n",
       "1  {'activation': 'swish', 'batch_size': 2048, 'e...           0.658625   \n",
       "2  {'activation': 'swish', 'batch_size': 2048, 'e...           0.647458   \n",
       "\n",
       "   split1_test_score  split2_test_score  split3_test_score  split4_test_score  \\\n",
       "0           0.701729           0.664448           0.504865           0.613740   \n",
       "1           0.628844           0.657906           0.634562           0.664958   \n",
       "2           0.673125           0.666031           0.661625           0.625573   \n",
       "\n",
       "   mean_test_score  std_test_score  rank_test_score  \n",
       "0         0.612165        0.068667                3  \n",
       "1         0.648979        0.014432                2  \n",
       "2         0.654763        0.016832                1  "
      ]
     },
     "execution_count": 72,
     "metadata": {},
     "output_type": "execute_result"
    }
   ],
   "source": [
    "pd.DataFrame(search_nn.cv_results_)"
   ]
  },
  {
   "cell_type": "code",
   "execution_count": null,
   "id": "ba0ae216",
   "metadata": {},
   "outputs": [],
   "source": []
  }
 ],
 "metadata": {
  "hide_input": false,
  "kernelspec": {
   "display_name": "Python 3",
   "language": "python",
   "name": "python3"
  },
  "language_info": {
   "codemirror_mode": {
    "name": "ipython",
    "version": 3
   },
   "file_extension": ".py",
   "mimetype": "text/x-python",
   "name": "python",
   "nbconvert_exporter": "python",
   "pygments_lexer": "ipython3",
   "version": "3.8.8"
  }
 },
 "nbformat": 4,
 "nbformat_minor": 5
}
