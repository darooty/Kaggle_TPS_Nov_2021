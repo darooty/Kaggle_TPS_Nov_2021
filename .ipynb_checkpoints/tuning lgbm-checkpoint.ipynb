{
 "cells": [
  {
   "cell_type": "code",
   "execution_count": 1,
   "id": "e24bf3cd",
   "metadata": {},
   "outputs": [
    {
     "data": {
      "text/html": [
       "<style type='text/css'>\n",
       ".datatable table.frame { margin-bottom: 0; }\n",
       ".datatable table.frame thead { border-bottom: none; }\n",
       ".datatable table.frame tr.coltypes td {  color: #FFFFFF;  line-height: 6px;  padding: 0 0.5em;}\n",
       ".datatable .bool    { background: #DDDD99; }\n",
       ".datatable .object  { background: #565656; }\n",
       ".datatable .int     { background: #5D9E5D; }\n",
       ".datatable .float   { background: #4040CC; }\n",
       ".datatable .str     { background: #CC4040; }\n",
       ".datatable .time    { background: #40CC40; }\n",
       ".datatable .row_index {  background: var(--jp-border-color3);  border-right: 1px solid var(--jp-border-color0);  color: var(--jp-ui-font-color3);  font-size: 9px;}\n",
       ".datatable .frame tbody td { text-align: left; }\n",
       ".datatable .frame tr.coltypes .row_index {  background: var(--jp-border-color0);}\n",
       ".datatable th:nth-child(2) { padding-left: 12px; }\n",
       ".datatable .hellipsis {  color: var(--jp-cell-editor-border-color);}\n",
       ".datatable .vellipsis {  background: var(--jp-layout-color0);  color: var(--jp-cell-editor-border-color);}\n",
       ".datatable .na {  color: var(--jp-cell-editor-border-color);  font-size: 80%;}\n",
       ".datatable .sp {  opacity: 0.25;}\n",
       ".datatable .footer { font-size: 9px; }\n",
       ".datatable .frame_dimensions {  background: var(--jp-border-color3);  border-top: 1px solid var(--jp-border-color0);  color: var(--jp-ui-font-color3);  display: inline-block;  opacity: 0.6;  padding: 1px 10px 1px 5px;}\n",
       "</style>\n"
      ],
      "text/plain": [
       "<IPython.core.display.HTML object>"
      ]
     },
     "metadata": {},
     "output_type": "display_data"
    }
   ],
   "source": [
    "import numpy as np\n",
    "import pandas as pd\n",
    "import matplotlib.pyplot as plt\n",
    "import seaborn as sns\n",
    "\n",
    "from sklearn.preprocessing import StandardScaler, RobustScaler, QuantileTransformer\n",
    "from sklearn.model_selection import GridSearchCV, RandomizedSearchCV, train_test_split, cross_val_score, KFold, StratifiedKFold\n",
    "from sklearn.metrics import roc_auc_score\n",
    "\n",
    "from lightgbm import LGBMClassifier"
   ]
  },
  {
   "cell_type": "code",
   "execution_count": 2,
   "id": "778d9c2b",
   "metadata": {},
   "outputs": [],
   "source": [
    "train = pd.read_csv('train.csv')\n",
    "test = pd.read_csv('test.csv')"
   ]
  },
  {
   "cell_type": "code",
   "execution_count": 3,
   "id": "3a011da8",
   "metadata": {},
   "outputs": [],
   "source": [
    "test_id = test.id\n",
    "train.drop(['id'], axis=1, inplace=True)\n",
    "test.drop(['id'] ,axis=1, inplace=True)\n",
    "\n",
    "X_train = train.drop(['target'], axis=1)\n",
    "y_train = train.target\n",
    "X_test = test"
   ]
  },
  {
   "cell_type": "code",
   "execution_count": 4,
   "id": "9861715e",
   "metadata": {},
   "outputs": [],
   "source": [
    "h_skew = X_train.loc[:, train.skew() >= 2].columns # with skewed\n",
    "l_skew = X_train.loc[:, train.skew() < 2].columns # Bimodal\n",
    "\n",
    "# high skewd columns:\n",
    "# add mean, median, skew, min, max, var, std\n",
    "X_train['median_h'] = X_train[h_skew].median(axis=1)\n",
    "X_test['median_h'] = X_test[h_skew].median(axis=1)\n",
    "X_train['var_h'] = X_train[h_skew].var(axis=1)\n",
    "X_test['var_h'] = X_test[h_skew].var(axis=1)\n",
    "\n",
    "# bimodal columns:\n",
    "\n",
    "X_train['mean_l'] = X_train[l_skew].mean(axis=1)\n",
    "X_test['mean_l'] = X_test[l_skew].mean(axis=1)\n",
    "X_train['std_l'] = X_train[l_skew].std(axis=1)\n",
    "X_test['std_l'] = X_test[l_skew].std(axis=1)\n",
    "X_train['median_l'] = X_train[l_skew].median(axis=1)\n",
    "X_test['median_l'] = X_test[l_skew].median(axis=1)\n",
    "X_train['skew_l'] = X_train[l_skew].skew(axis=1)\n",
    "X_test['skew_l'] = X_test[l_skew].skew(axis=1)\n",
    "X_train['max_l'] = X_train[l_skew].max(axis=1)\n",
    "X_test['max_l'] = X_test[l_skew].max(axis=1)\n",
    "X_train['var_l'] = X_train[l_skew].var(axis=1)\n",
    "X_test['var_l'] = X_test[l_skew].var(axis=1)"
   ]
  },
  {
   "cell_type": "code",
   "execution_count": 5,
   "id": "f3a86600",
   "metadata": {},
   "outputs": [
    {
     "data": {
      "text/plain": [
       "((600000, 108), (540000, 108))"
      ]
     },
     "execution_count": 5,
     "metadata": {},
     "output_type": "execute_result"
    }
   ],
   "source": [
    "X_train.shape, X_test.shape"
   ]
  },
  {
   "cell_type": "code",
   "execution_count": 6,
   "id": "69a2a790",
   "metadata": {},
   "outputs": [],
   "source": [
    "X_train2 = X_train.iloc[:1000]\n",
    "y_train2 = y_train[:1000]"
   ]
  },
  {
   "cell_type": "markdown",
   "id": "9202fd49",
   "metadata": {},
   "source": [
    "---"
   ]
  },
  {
   "cell_type": "code",
   "execution_count": 7,
   "id": "10634abe",
   "metadata": {},
   "outputs": [],
   "source": [
    "# 훈련데이터와 테스트 데이터 구축 후 훈련데이터를 축소훈련데이터와 축소테스트데이터로 구분해준다.\n",
    "xtrain, xtest, ytrain, ytest = train_test_split(X_train2, y_train2, test_size=0.1, random_state=42)"
   ]
  },
  {
   "cell_type": "code",
   "execution_count": 8,
   "id": "e3e395bc",
   "metadata": {},
   "outputs": [
    {
     "data": {
      "text/plain": [
       "((900, 108), (100, 108), (900,), (100,))"
      ]
     },
     "execution_count": 8,
     "metadata": {},
     "output_type": "execute_result"
    }
   ],
   "source": [
    "xtrain.shape, xtest.shape, ytrain.shape, ytest.shape"
   ]
  },
  {
   "cell_type": "code",
   "execution_count": 9,
   "id": "1fa5f505",
   "metadata": {},
   "outputs": [
    {
     "data": {
      "text/plain": [
       "{'boosting_type': 'gbdt',\n",
       " 'class_weight': None,\n",
       " 'colsample_bytree': 1.0,\n",
       " 'importance_type': 'split',\n",
       " 'learning_rate': 0.1,\n",
       " 'max_depth': -1,\n",
       " 'min_child_samples': 20,\n",
       " 'min_child_weight': 0.001,\n",
       " 'min_split_gain': 0.0,\n",
       " 'n_estimators': 100,\n",
       " 'n_jobs': -1,\n",
       " 'num_leaves': 31,\n",
       " 'objective': None,\n",
       " 'random_state': None,\n",
       " 'reg_alpha': 0.0,\n",
       " 'reg_lambda': 0.0,\n",
       " 'silent': 'warn',\n",
       " 'subsample': 1.0,\n",
       " 'subsample_for_bin': 200000,\n",
       " 'subsample_freq': 0}"
      ]
     },
     "execution_count": 9,
     "metadata": {},
     "output_type": "execute_result"
    }
   ],
   "source": [
    "# 사용할 모델은 lgbm이다.\n",
    "model = LGBMClassifier()\n",
    "model.get_params()"
   ]
  },
  {
   "cell_type": "code",
   "execution_count": 37,
   "id": "277f9027",
   "metadata": {},
   "outputs": [],
   "source": [
    "# lgbm의 서치 범위이다.\n",
    "param_grid = {\n",
    "    'boosting_type': ['gbdt', 'goss', 'dart'],\n",
    "    'num_leaves': list(range(20, 150)),\n",
    "    'learning_rate': list(np.logspace(np.log10(0.005), np.log10(0.5), base = 10, num = 1000)),\n",
    "    'subsample_for_bin': list(range(20000, 300000, 20000)),\n",
    "    'min_child_samples': list(range(20, 500, 5)),\n",
    "    'reg_alpha': list(np.linspace(0, 1)),\n",
    "    'reg_lambda': list(np.linspace(0, 1)),\n",
    "    'colsample_bytree': list(np.linspace(0.6, 1, 10)),\n",
    "    'subsample': list(np.linspace(0.5, 1, 100)),\n",
    "    'is_unbalance': [True, False]\n",
    "}"
   ]
  },
  {
   "cell_type": "code",
   "execution_count": 12,
   "id": "e1103684",
   "metadata": {},
   "outputs": [],
   "source": [
    "cv = StratifiedKFold(n_splits=5, shuffle=True,\n",
    "                    random_state=42)"
   ]
  },
  {
   "cell_type": "code",
   "execution_count": 38,
   "id": "1d5b4495",
   "metadata": {
    "scrolled": true
   },
   "outputs": [
    {
     "name": "stderr",
     "output_type": "stream",
     "text": [
      "C:\\Users\\user\\anaconda3\\lib\\site-packages\\lightgbm\\sklearn.py:726: UserWarning: 'early_stopping_rounds' argument is deprecated and will be removed in a future release of LightGBM. Pass 'early_stopping()' callback via 'callbacks' argument instead.\n",
      "  _log_warning(\"'early_stopping_rounds' argument is deprecated and will be removed in a future release of LightGBM. \"\n",
      "C:\\Users\\user\\anaconda3\\lib\\site-packages\\lightgbm\\callback.py:223: UserWarning: Early stopping is not available in dart mode\n",
      "  _log_warning('Early stopping is not available in dart mode')\n"
     ]
    },
    {
     "name": "stdout",
     "output_type": "stream",
     "text": [
      "[1]\tvalid_0's auc: 0.53612\tvalid_0's binary_logloss: 0.686494\n",
      "[2]\tvalid_0's auc: 0.586242\tvalid_0's binary_logloss: 0.685752\n",
      "[3]\tvalid_0's auc: 0.61526\tvalid_0's binary_logloss: 0.685434\n",
      "[4]\tvalid_0's auc: 0.57082\tvalid_0's binary_logloss: 0.685652\n",
      "[5]\tvalid_0's auc: 0.571631\tvalid_0's binary_logloss: 0.685149\n",
      "[6]\tvalid_0's auc: 0.578125\tvalid_0's binary_logloss: 0.684624\n",
      "[7]\tvalid_0's auc: 0.561688\tvalid_0's binary_logloss: 0.685115\n",
      "[8]\tvalid_0's auc: 0.55763\tvalid_0's binary_logloss: 0.685341\n",
      "[9]\tvalid_0's auc: 0.590097\tvalid_0's binary_logloss: 0.684345\n",
      "[10]\tvalid_0's auc: 0.590503\tvalid_0's binary_logloss: 0.683887\n",
      "[11]\tvalid_0's auc: 0.602273\tvalid_0's binary_logloss: 0.683436\n",
      "[12]\tvalid_0's auc: 0.603896\tvalid_0's binary_logloss: 0.6835\n",
      "[13]\tvalid_0's auc: 0.605114\tvalid_0's binary_logloss: 0.683169\n",
      "[14]\tvalid_0's auc: 0.605925\tvalid_0's binary_logloss: 0.682828\n",
      "[15]\tvalid_0's auc: 0.603084\tvalid_0's binary_logloss: 0.682602\n",
      "[16]\tvalid_0's auc: 0.603896\tvalid_0's binary_logloss: 0.682601\n",
      "[17]\tvalid_0's auc: 0.586039\tvalid_0's binary_logloss: 0.683068\n",
      "[18]\tvalid_0's auc: 0.574675\tvalid_0's binary_logloss: 0.683603\n",
      "[19]\tvalid_0's auc: 0.559659\tvalid_0's binary_logloss: 0.683915\n",
      "[20]\tvalid_0's auc: 0.564529\tvalid_0's binary_logloss: 0.683506\n",
      "[21]\tvalid_0's auc: 0.559659\tvalid_0's binary_logloss: 0.683699\n",
      "[22]\tvalid_0's auc: 0.570617\tvalid_0's binary_logloss: 0.68301\n",
      "[23]\tvalid_0's auc: 0.574675\tvalid_0's binary_logloss: 0.682616\n",
      "[24]\tvalid_0's auc: 0.575893\tvalid_0's binary_logloss: 0.682288\n",
      "[25]\tvalid_0's auc: 0.593344\tvalid_0's binary_logloss: 0.68104\n",
      "[26]\tvalid_0's auc: 0.590909\tvalid_0's binary_logloss: 0.68057\n",
      "[27]\tvalid_0's auc: 0.590503\tvalid_0's binary_logloss: 0.680933\n",
      "[28]\tvalid_0's auc: 0.585633\tvalid_0's binary_logloss: 0.681261\n",
      "[29]\tvalid_0's auc: 0.578734\tvalid_0's binary_logloss: 0.681502\n",
      "[30]\tvalid_0's auc: 0.555195\tvalid_0's binary_logloss: 0.682596\n",
      "[31]\tvalid_0's auc: 0.553977\tvalid_0's binary_logloss: 0.68256\n",
      "[32]\tvalid_0's auc: 0.548295\tvalid_0's binary_logloss: 0.682922\n",
      "[33]\tvalid_0's auc: 0.555601\tvalid_0's binary_logloss: 0.682452\n",
      "[34]\tvalid_0's auc: 0.568588\tvalid_0's binary_logloss: 0.681783\n",
      "[35]\tvalid_0's auc: 0.569805\tvalid_0's binary_logloss: 0.681865\n",
      "[36]\tvalid_0's auc: 0.569399\tvalid_0's binary_logloss: 0.681908\n",
      "[37]\tvalid_0's auc: 0.571023\tvalid_0's binary_logloss: 0.681398\n",
      "[38]\tvalid_0's auc: 0.578328\tvalid_0's binary_logloss: 0.681075\n",
      "[39]\tvalid_0's auc: 0.581575\tvalid_0's binary_logloss: 0.680688\n",
      "[40]\tvalid_0's auc: 0.583604\tvalid_0's binary_logloss: 0.680454\n",
      "[41]\tvalid_0's auc: 0.588068\tvalid_0's binary_logloss: 0.680424\n",
      "[42]\tvalid_0's auc: 0.586851\tvalid_0's binary_logloss: 0.679874\n",
      "[43]\tvalid_0's auc: 0.590909\tvalid_0's binary_logloss: 0.679977\n",
      "[44]\tvalid_0's auc: 0.587256\tvalid_0's binary_logloss: 0.679957\n",
      "[45]\tvalid_0's auc: 0.592532\tvalid_0's binary_logloss: 0.679357\n",
      "[46]\tvalid_0's auc: 0.596185\tvalid_0's binary_logloss: 0.679017\n",
      "[47]\tvalid_0's auc: 0.605114\tvalid_0's binary_logloss: 0.677953\n",
      "[48]\tvalid_0's auc: 0.599838\tvalid_0's binary_logloss: 0.678146\n",
      "[49]\tvalid_0's auc: 0.605114\tvalid_0's binary_logloss: 0.678209\n",
      "[50]\tvalid_0's auc: 0.611607\tvalid_0's binary_logloss: 0.678066\n",
      "[51]\tvalid_0's auc: 0.616071\tvalid_0's binary_logloss: 0.677232\n",
      "[52]\tvalid_0's auc: 0.61039\tvalid_0's binary_logloss: 0.677255\n",
      "[53]\tvalid_0's auc: 0.609984\tvalid_0's binary_logloss: 0.677193\n",
      "[54]\tvalid_0's auc: 0.607143\tvalid_0's binary_logloss: 0.677152\n",
      "[55]\tvalid_0's auc: 0.613636\tvalid_0's binary_logloss: 0.676295\n",
      "[56]\tvalid_0's auc: 0.614448\tvalid_0's binary_logloss: 0.676455\n",
      "[57]\tvalid_0's auc: 0.618101\tvalid_0's binary_logloss: 0.675995\n",
      "[58]\tvalid_0's auc: 0.618506\tvalid_0's binary_logloss: 0.676226\n",
      "[59]\tvalid_0's auc: 0.617289\tvalid_0's binary_logloss: 0.676333\n",
      "[60]\tvalid_0's auc: 0.616883\tvalid_0's binary_logloss: 0.676251\n",
      "[61]\tvalid_0's auc: 0.622565\tvalid_0's binary_logloss: 0.676747\n",
      "[62]\tvalid_0's auc: 0.627435\tvalid_0's binary_logloss: 0.675976\n",
      "[63]\tvalid_0's auc: 0.631899\tvalid_0's binary_logloss: 0.675591\n",
      "[64]\tvalid_0's auc: 0.638393\tvalid_0's binary_logloss: 0.675449\n",
      "[65]\tvalid_0's auc: 0.637175\tvalid_0's binary_logloss: 0.675465\n",
      "[66]\tvalid_0's auc: 0.634334\tvalid_0's binary_logloss: 0.675677\n",
      "[67]\tvalid_0's auc: 0.632711\tvalid_0's binary_logloss: 0.675948\n",
      "[68]\tvalid_0's auc: 0.630682\tvalid_0's binary_logloss: 0.67644\n",
      "[69]\tvalid_0's auc: 0.627841\tvalid_0's binary_logloss: 0.676749\n",
      "[70]\tvalid_0's auc: 0.628653\tvalid_0's binary_logloss: 0.676557\n",
      "[71]\tvalid_0's auc: 0.628653\tvalid_0's binary_logloss: 0.676786\n",
      "[72]\tvalid_0's auc: 0.618912\tvalid_0's binary_logloss: 0.676623\n",
      "[73]\tvalid_0's auc: 0.620536\tvalid_0's binary_logloss: 0.676575\n",
      "[74]\tvalid_0's auc: 0.620536\tvalid_0's binary_logloss: 0.676654\n",
      "[75]\tvalid_0's auc: 0.616883\tvalid_0's binary_logloss: 0.67699\n",
      "[76]\tvalid_0's auc: 0.618101\tvalid_0's binary_logloss: 0.67703\n",
      "[77]\tvalid_0's auc: 0.616883\tvalid_0's binary_logloss: 0.677159\n",
      "[78]\tvalid_0's auc: 0.616477\tvalid_0's binary_logloss: 0.677408\n",
      "[79]\tvalid_0's auc: 0.612825\tvalid_0's binary_logloss: 0.676903\n",
      "[80]\tvalid_0's auc: 0.615666\tvalid_0's binary_logloss: 0.676768\n",
      "[81]\tvalid_0's auc: 0.616071\tvalid_0's binary_logloss: 0.676841\n",
      "[82]\tvalid_0's auc: 0.622971\tvalid_0's binary_logloss: 0.675974\n",
      "[83]\tvalid_0's auc: 0.628247\tvalid_0's binary_logloss: 0.675829\n",
      "[84]\tvalid_0's auc: 0.628247\tvalid_0's binary_logloss: 0.676131\n",
      "[85]\tvalid_0's auc: 0.627841\tvalid_0's binary_logloss: 0.676311\n",
      "[86]\tvalid_0's auc: 0.621347\tvalid_0's binary_logloss: 0.676093\n",
      "[87]\tvalid_0's auc: 0.622565\tvalid_0's binary_logloss: 0.675922\n",
      "[88]\tvalid_0's auc: 0.625812\tvalid_0's binary_logloss: 0.675877\n",
      "[89]\tvalid_0's auc: 0.626218\tvalid_0's binary_logloss: 0.675871\n",
      "[90]\tvalid_0's auc: 0.627435\tvalid_0's binary_logloss: 0.67579\n",
      "[91]\tvalid_0's auc: 0.626218\tvalid_0's binary_logloss: 0.676578\n",
      "[92]\tvalid_0's auc: 0.625812\tvalid_0's binary_logloss: 0.676423\n",
      "[93]\tvalid_0's auc: 0.624188\tvalid_0's binary_logloss: 0.676116\n",
      "[94]\tvalid_0's auc: 0.627435\tvalid_0's binary_logloss: 0.676211\n",
      "[95]\tvalid_0's auc: 0.627841\tvalid_0's binary_logloss: 0.67622\n",
      "[96]\tvalid_0's auc: 0.627029\tvalid_0's binary_logloss: 0.676133\n",
      "[97]\tvalid_0's auc: 0.624188\tvalid_0's binary_logloss: 0.67634\n",
      "[98]\tvalid_0's auc: 0.623377\tvalid_0's binary_logloss: 0.676564\n",
      "[99]\tvalid_0's auc: 0.624594\tvalid_0's binary_logloss: 0.676599\n",
      "[100]\tvalid_0's auc: 0.624188\tvalid_0's binary_logloss: 0.676002\n"
     ]
    }
   ],
   "source": [
    "search_model = RandomizedSearchCV(model, param_grid, cv=cv,\n",
    "                                  scoring='roc_auc',\n",
    "                                  n_jobs=-1,\n",
    "                                  verbose=0,n_iter=1\n",
    "                                 ).fit(xtrain, ytrain,\n",
    "                                       early_stopping_rounds=15,\n",
    "                                       eval_set=[(xtest, ytest)],\n",
    "                                       eval_metric=['AUC'])"
   ]
  },
  {
   "cell_type": "code",
   "execution_count": null,
   "id": "c359e7db",
   "metadata": {},
   "outputs": [],
   "source": [
    "pd.DataFrame(search_model.cv_results_)"
   ]
  },
  {
   "cell_type": "code",
   "execution_count": null,
   "id": "f1f1902f",
   "metadata": {},
   "outputs": [],
   "source": []
  },
  {
   "cell_type": "code",
   "execution_count": null,
   "id": "97b4032b",
   "metadata": {},
   "outputs": [],
   "source": []
  },
  {
   "cell_type": "code",
   "execution_count": null,
   "id": "22eaead1",
   "metadata": {},
   "outputs": [],
   "source": []
  },
  {
   "cell_type": "code",
   "execution_count": null,
   "id": "fd90a82f",
   "metadata": {},
   "outputs": [],
   "source": []
  },
  {
   "cell_type": "code",
   "execution_count": null,
   "id": "465ebd22",
   "metadata": {},
   "outputs": [],
   "source": []
  },
  {
   "cell_type": "code",
   "execution_count": null,
   "id": "34c920bb",
   "metadata": {},
   "outputs": [],
   "source": []
  },
  {
   "cell_type": "code",
   "execution_count": null,
   "id": "4f0bd9b6",
   "metadata": {},
   "outputs": [],
   "source": []
  },
  {
   "cell_type": "code",
   "execution_count": null,
   "id": "f40012e9",
   "metadata": {},
   "outputs": [],
   "source": []
  },
  {
   "cell_type": "code",
   "execution_count": null,
   "id": "8a2ff6dd",
   "metadata": {},
   "outputs": [],
   "source": []
  },
  {
   "cell_type": "code",
   "execution_count": null,
   "id": "4010a29e",
   "metadata": {},
   "outputs": [],
   "source": []
  },
  {
   "cell_type": "code",
   "execution_count": null,
   "id": "bce58ce0",
   "metadata": {},
   "outputs": [],
   "source": []
  },
  {
   "cell_type": "code",
   "execution_count": null,
   "id": "f87cb3ee",
   "metadata": {},
   "outputs": [],
   "source": []
  },
  {
   "cell_type": "code",
   "execution_count": null,
   "id": "1e5ea479",
   "metadata": {},
   "outputs": [],
   "source": []
  },
  {
   "cell_type": "code",
   "execution_count": null,
   "id": "7aadcd6d",
   "metadata": {},
   "outputs": [],
   "source": []
  },
  {
   "cell_type": "code",
   "execution_count": null,
   "id": "9908a064",
   "metadata": {},
   "outputs": [],
   "source": []
  },
  {
   "cell_type": "code",
   "execution_count": null,
   "id": "8ae08368",
   "metadata": {},
   "outputs": [],
   "source": []
  },
  {
   "cell_type": "code",
   "execution_count": null,
   "id": "ac5ac7a4",
   "metadata": {},
   "outputs": [],
   "source": []
  },
  {
   "cell_type": "code",
   "execution_count": null,
   "id": "9a2aea9f",
   "metadata": {},
   "outputs": [],
   "source": []
  },
  {
   "cell_type": "code",
   "execution_count": null,
   "id": "92242744",
   "metadata": {},
   "outputs": [],
   "source": []
  },
  {
   "cell_type": "code",
   "execution_count": null,
   "id": "c1d31fd0",
   "metadata": {},
   "outputs": [],
   "source": []
  },
  {
   "cell_type": "code",
   "execution_count": null,
   "id": "5758a7f9",
   "metadata": {},
   "outputs": [],
   "source": []
  }
 ],
 "metadata": {
  "hide_input": false,
  "kernelspec": {
   "display_name": "Python 3",
   "language": "python",
   "name": "python3"
  },
  "language_info": {
   "codemirror_mode": {
    "name": "ipython",
    "version": 3
   },
   "file_extension": ".py",
   "mimetype": "text/x-python",
   "name": "python",
   "nbconvert_exporter": "python",
   "pygments_lexer": "ipython3",
   "version": "3.8.8"
  }
 },
 "nbformat": 4,
 "nbformat_minor": 5
}
